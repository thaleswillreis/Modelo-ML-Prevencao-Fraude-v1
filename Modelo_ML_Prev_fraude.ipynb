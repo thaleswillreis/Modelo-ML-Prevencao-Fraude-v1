{
 "cells": [
  {
   "cell_type": "code",
   "execution_count": 110,
   "metadata": {},
   "outputs": [],
   "source": [
    "# Importando as bibliotecas\n",
    "import numpy as np\n",
    "import pandas as pd\n",
    "import matplotlib.pyplot as plt\n",
    "import seaborn as sns\n",
    "import time\n",
    "import warnings\n",
    "\n",
    "from sklearn.ensemble import RandomForestClassifier\n",
    "from sklearn.svm import SVC\n",
    "from sklearn.neighbors import KNeighborsClassifier\n",
    "from sklearn.model_selection import GridSearchCV\n",
    "from sklearn.model_selection import train_test_split\n",
    "from sklearn.preprocessing import LabelEncoder\n",
    "from sklearn.preprocessing import MinMaxScaler\n",
    "from sklearn.preprocessing import StandardScaler\n",
    "from sklearn.metrics import r2_score\n",
    "\n",
    "from imblearn import under_sampling, over_sampling\n",
    "from imblearn.over_sampling import SMOTE\n",
    "warnings.filterwarnings(\"ignore\") \n",
    "pd.set_option('display.max_columns', None)\n",
    "pd.set_option('display.max_rows', None)\n",
    "pd.options.display.float_format = '{:.2f}'.format"
   ]
  },
  {
   "cell_type": "code",
   "execution_count": 111,
   "metadata": {},
   "outputs": [],
   "source": [
    "# Lendo o arquivo\n",
    "df = pd.read_csv(\"Dados/dados_clientes.csv\")"
   ]
  },
  {
   "cell_type": "markdown",
   "metadata": {},
   "source": [
    "## Análise Exploratória"
   ]
  },
  {
   "cell_type": "code",
   "execution_count": 112,
   "metadata": {},
   "outputs": [
    {
     "data": {
      "text/plain": [
       "(80143, 24)"
      ]
     },
     "execution_count": 112,
     "metadata": {},
     "output_type": "execute_result"
    }
   ],
   "source": [
    "# Visualizando o tamanhoos  do dataframe\n",
    "df.shape"
   ]
  },
  {
   "cell_type": "code",
   "execution_count": 113,
   "metadata": {},
   "outputs": [
    {
     "data": {
      "text/plain": [
       "Index(['Contrato', 'Idade', 'Sexo', 'Valor_Renda', 'UF_Cliente', 'Perc_Juros',\n",
       "       'Prazo_Emprestimo', 'Data_Contratacao', 'Prazo_Restante',\n",
       "       'VL_Emprestimo', 'VL_Emprestimo_ComJuros', 'QT_Total_Parcelas_Pagas',\n",
       "       'QT_Total_Parcelas_Pagas_EmDia', 'QT_Total_Parcelas_Pagas_EmAtraso',\n",
       "       'Qt_Renegociacao', 'Estado_Civil', 'Escolaridade', 'Possui_Patrimonio',\n",
       "       'VL_Patrimonio', 'QT_Parcelas_Atraso', 'QT_Dias_Atraso',\n",
       "       'Saldo_Devedor', 'Total_Pago', 'Possivel_Fraude'],\n",
       "      dtype='object')"
      ]
     },
     "execution_count": 113,
     "metadata": {},
     "output_type": "execute_result"
    }
   ],
   "source": [
    "# Visualizando as colunas\n",
    "df.columns"
   ]
  },
  {
   "cell_type": "code",
   "execution_count": 114,
   "metadata": {},
   "outputs": [
    {
     "data": {
      "text/html": [
       "<div>\n",
       "<style scoped>\n",
       "    .dataframe tbody tr th:only-of-type {\n",
       "        vertical-align: middle;\n",
       "    }\n",
       "\n",
       "    .dataframe tbody tr th {\n",
       "        vertical-align: top;\n",
       "    }\n",
       "\n",
       "    .dataframe thead th {\n",
       "        text-align: right;\n",
       "    }\n",
       "</style>\n",
       "<table border=\"1\" class=\"dataframe\">\n",
       "  <thead>\n",
       "    <tr style=\"text-align: right;\">\n",
       "      <th></th>\n",
       "      <th>Contrato</th>\n",
       "      <th>Idade</th>\n",
       "      <th>Sexo</th>\n",
       "      <th>Valor_Renda</th>\n",
       "      <th>UF_Cliente</th>\n",
       "      <th>Perc_Juros</th>\n",
       "      <th>Prazo_Emprestimo</th>\n",
       "      <th>Data_Contratacao</th>\n",
       "      <th>Prazo_Restante</th>\n",
       "      <th>VL_Emprestimo</th>\n",
       "      <th>VL_Emprestimo_ComJuros</th>\n",
       "      <th>QT_Total_Parcelas_Pagas</th>\n",
       "      <th>QT_Total_Parcelas_Pagas_EmDia</th>\n",
       "      <th>QT_Total_Parcelas_Pagas_EmAtraso</th>\n",
       "      <th>Qt_Renegociacao</th>\n",
       "      <th>Estado_Civil</th>\n",
       "      <th>Escolaridade</th>\n",
       "      <th>Possui_Patrimonio</th>\n",
       "      <th>VL_Patrimonio</th>\n",
       "      <th>QT_Parcelas_Atraso</th>\n",
       "      <th>QT_Dias_Atraso</th>\n",
       "      <th>Saldo_Devedor</th>\n",
       "      <th>Total_Pago</th>\n",
       "      <th>Possivel_Fraude</th>\n",
       "    </tr>\n",
       "  </thead>\n",
       "  <tbody>\n",
       "    <tr>\n",
       "      <th>0</th>\n",
       "      <td>322090928715</td>\n",
       "      <td>42</td>\n",
       "      <td>M</td>\n",
       "      <td>4000.00</td>\n",
       "      <td>MA</td>\n",
       "      <td>17.00</td>\n",
       "      <td>140</td>\n",
       "      <td>2022-11-18</td>\n",
       "      <td>143</td>\n",
       "      <td>160000.00</td>\n",
       "      <td>184000.00</td>\n",
       "      <td>2</td>\n",
       "      <td>1</td>\n",
       "      <td>1</td>\n",
       "      <td>2</td>\n",
       "      <td>SOLTEIRO(A)</td>\n",
       "      <td>NaN</td>\n",
       "      <td>N</td>\n",
       "      <td>0.00</td>\n",
       "      <td>10</td>\n",
       "      <td>284.00</td>\n",
       "      <td>187861.70</td>\n",
       "      <td>1617.36</td>\n",
       "      <td>Sim</td>\n",
       "    </tr>\n",
       "    <tr>\n",
       "      <th>1</th>\n",
       "      <td>321990634715</td>\n",
       "      <td>31</td>\n",
       "      <td>M</td>\n",
       "      <td>3000.00</td>\n",
       "      <td>MA</td>\n",
       "      <td>20.00</td>\n",
       "      <td>28</td>\n",
       "      <td>2021-07-23</td>\n",
       "      <td>0</td>\n",
       "      <td>14000.00</td>\n",
       "      <td>16100.00</td>\n",
       "      <td>2</td>\n",
       "      <td>1</td>\n",
       "      <td>1</td>\n",
       "      <td>1</td>\n",
       "      <td>CASADO (A)</td>\n",
       "      <td>NaN</td>\n",
       "      <td>N</td>\n",
       "      <td>0.00</td>\n",
       "      <td>26</td>\n",
       "      <td>771.00</td>\n",
       "      <td>16615.93</td>\n",
       "      <td>1239.98</td>\n",
       "      <td>Sim</td>\n",
       "    </tr>\n",
       "    <tr>\n",
       "      <th>2</th>\n",
       "      <td>321965373715</td>\n",
       "      <td>36</td>\n",
       "      <td>F</td>\n",
       "      <td>2100.00</td>\n",
       "      <td>SP</td>\n",
       "      <td>24.00</td>\n",
       "      <td>180</td>\n",
       "      <td>2021-04-01</td>\n",
       "      <td>149</td>\n",
       "      <td>60000.00</td>\n",
       "      <td>69000.00</td>\n",
       "      <td>4</td>\n",
       "      <td>1</td>\n",
       "      <td>0</td>\n",
       "      <td>1</td>\n",
       "      <td>CASADO (A)</td>\n",
       "      <td>Nenhum</td>\n",
       "      <td>N</td>\n",
       "      <td>0.00</td>\n",
       "      <td>27</td>\n",
       "      <td>802.00</td>\n",
       "      <td>74443.40</td>\n",
       "      <td>1346.64</td>\n",
       "      <td>Sim</td>\n",
       "    </tr>\n",
       "    <tr>\n",
       "      <th>3</th>\n",
       "      <td>321967133715</td>\n",
       "      <td>28</td>\n",
       "      <td>M</td>\n",
       "      <td>2155.00</td>\n",
       "      <td>DF</td>\n",
       "      <td>19.00</td>\n",
       "      <td>190</td>\n",
       "      <td>2021-04-10</td>\n",
       "      <td>159</td>\n",
       "      <td>180000.00</td>\n",
       "      <td>207000.00</td>\n",
       "      <td>29</td>\n",
       "      <td>28</td>\n",
       "      <td>0</td>\n",
       "      <td>2</td>\n",
       "      <td>SOLTEIRO(A)</td>\n",
       "      <td>Nenhum</td>\n",
       "      <td>N</td>\n",
       "      <td>0.00</td>\n",
       "      <td>2</td>\n",
       "      <td>41.00</td>\n",
       "      <td>196812.41</td>\n",
       "      <td>22713.63</td>\n",
       "      <td>Nao</td>\n",
       "    </tr>\n",
       "    <tr>\n",
       "      <th>4</th>\n",
       "      <td>322098744715</td>\n",
       "      <td>21</td>\n",
       "      <td>F</td>\n",
       "      <td>4300.00</td>\n",
       "      <td>MG</td>\n",
       "      <td>22.00</td>\n",
       "      <td>100</td>\n",
       "      <td>2022-12-28</td>\n",
       "      <td>94</td>\n",
       "      <td>30000.00</td>\n",
       "      <td>34500.00</td>\n",
       "      <td>4</td>\n",
       "      <td>3</td>\n",
       "      <td>0</td>\n",
       "      <td>1</td>\n",
       "      <td>SOLTEIRO(A)</td>\n",
       "      <td>Ensino Médio</td>\n",
       "      <td>N</td>\n",
       "      <td>0.00</td>\n",
       "      <td>6</td>\n",
       "      <td>162.00</td>\n",
       "      <td>36114.39</td>\n",
       "      <td>900.80</td>\n",
       "      <td>Sim</td>\n",
       "    </tr>\n",
       "  </tbody>\n",
       "</table>\n",
       "</div>"
      ],
      "text/plain": [
       "       Contrato  Idade Sexo  Valor_Renda UF_Cliente  Perc_Juros  \\\n",
       "0  322090928715     42    M      4000.00         MA       17.00   \n",
       "1  321990634715     31    M      3000.00         MA       20.00   \n",
       "2  321965373715     36    F      2100.00         SP       24.00   \n",
       "3  321967133715     28    M      2155.00         DF       19.00   \n",
       "4  322098744715     21    F      4300.00         MG       22.00   \n",
       "\n",
       "   Prazo_Emprestimo Data_Contratacao  Prazo_Restante  VL_Emprestimo  \\\n",
       "0               140       2022-11-18             143      160000.00   \n",
       "1                28       2021-07-23               0       14000.00   \n",
       "2               180       2021-04-01             149       60000.00   \n",
       "3               190       2021-04-10             159      180000.00   \n",
       "4               100       2022-12-28              94       30000.00   \n",
       "\n",
       "   VL_Emprestimo_ComJuros  QT_Total_Parcelas_Pagas  \\\n",
       "0               184000.00                        2   \n",
       "1                16100.00                        2   \n",
       "2                69000.00                        4   \n",
       "3               207000.00                       29   \n",
       "4                34500.00                        4   \n",
       "\n",
       "   QT_Total_Parcelas_Pagas_EmDia  QT_Total_Parcelas_Pagas_EmAtraso  \\\n",
       "0                              1                                 1   \n",
       "1                              1                                 1   \n",
       "2                              1                                 0   \n",
       "3                             28                                 0   \n",
       "4                              3                                 0   \n",
       "\n",
       "   Qt_Renegociacao Estado_Civil  Escolaridade Possui_Patrimonio  \\\n",
       "0                2  SOLTEIRO(A)           NaN                 N   \n",
       "1                1   CASADO (A)           NaN                 N   \n",
       "2                1   CASADO (A)        Nenhum                 N   \n",
       "3                2  SOLTEIRO(A)        Nenhum                 N   \n",
       "4                1  SOLTEIRO(A)  Ensino Médio                 N   \n",
       "\n",
       "   VL_Patrimonio  QT_Parcelas_Atraso  QT_Dias_Atraso  Saldo_Devedor  \\\n",
       "0           0.00                  10          284.00      187861.70   \n",
       "1           0.00                  26          771.00       16615.93   \n",
       "2           0.00                  27          802.00       74443.40   \n",
       "3           0.00                   2           41.00      196812.41   \n",
       "4           0.00                   6          162.00       36114.39   \n",
       "\n",
       "   Total_Pago Possivel_Fraude  \n",
       "0     1617.36             Sim  \n",
       "1     1239.98             Sim  \n",
       "2     1346.64             Sim  \n",
       "3    22713.63             Nao  \n",
       "4      900.80             Sim  "
      ]
     },
     "execution_count": 114,
     "metadata": {},
     "output_type": "execute_result"
    }
   ],
   "source": [
    "# Visualizando as primeiras linhas\n",
    "df.head()"
   ]
  },
  {
   "cell_type": "code",
   "execution_count": 115,
   "metadata": {},
   "outputs": [
    {
     "data": {
      "text/html": [
       "<div>\n",
       "<style scoped>\n",
       "    .dataframe tbody tr th:only-of-type {\n",
       "        vertical-align: middle;\n",
       "    }\n",
       "\n",
       "    .dataframe tbody tr th {\n",
       "        vertical-align: top;\n",
       "    }\n",
       "\n",
       "    .dataframe thead th {\n",
       "        text-align: right;\n",
       "    }\n",
       "</style>\n",
       "<table border=\"1\" class=\"dataframe\">\n",
       "  <thead>\n",
       "    <tr style=\"text-align: right;\">\n",
       "      <th></th>\n",
       "      <th>Contrato</th>\n",
       "      <th>Idade</th>\n",
       "      <th>Sexo</th>\n",
       "      <th>Valor_Renda</th>\n",
       "      <th>UF_Cliente</th>\n",
       "      <th>Perc_Juros</th>\n",
       "      <th>Prazo_Emprestimo</th>\n",
       "      <th>Data_Contratacao</th>\n",
       "      <th>Prazo_Restante</th>\n",
       "      <th>VL_Emprestimo</th>\n",
       "      <th>VL_Emprestimo_ComJuros</th>\n",
       "      <th>QT_Total_Parcelas_Pagas</th>\n",
       "      <th>QT_Total_Parcelas_Pagas_EmDia</th>\n",
       "      <th>QT_Total_Parcelas_Pagas_EmAtraso</th>\n",
       "      <th>Qt_Renegociacao</th>\n",
       "      <th>Estado_Civil</th>\n",
       "      <th>Escolaridade</th>\n",
       "      <th>Possui_Patrimonio</th>\n",
       "      <th>VL_Patrimonio</th>\n",
       "      <th>QT_Parcelas_Atraso</th>\n",
       "      <th>QT_Dias_Atraso</th>\n",
       "      <th>Saldo_Devedor</th>\n",
       "      <th>Total_Pago</th>\n",
       "      <th>Possivel_Fraude</th>\n",
       "    </tr>\n",
       "  </thead>\n",
       "  <tbody>\n",
       "    <tr>\n",
       "      <th>36100</th>\n",
       "      <td>322030502715</td>\n",
       "      <td>58</td>\n",
       "      <td>M</td>\n",
       "      <td>2600.00</td>\n",
       "      <td>MG</td>\n",
       "      <td>18.00</td>\n",
       "      <td>100</td>\n",
       "      <td>2022-01-10</td>\n",
       "      <td>82</td>\n",
       "      <td>25000.00</td>\n",
       "      <td>28750.00</td>\n",
       "      <td>22</td>\n",
       "      <td>22</td>\n",
       "      <td>0</td>\n",
       "      <td>0</td>\n",
       "      <td>CASADO (A)</td>\n",
       "      <td>NaN</td>\n",
       "      <td>N</td>\n",
       "      <td>0.00</td>\n",
       "      <td>0</td>\n",
       "      <td>NaN</td>\n",
       "      <td>23205.02</td>\n",
       "      <td>6897.52</td>\n",
       "      <td>Nao</td>\n",
       "    </tr>\n",
       "    <tr>\n",
       "      <th>46422</th>\n",
       "      <td>321981664715</td>\n",
       "      <td>60</td>\n",
       "      <td>F</td>\n",
       "      <td>15000.00</td>\n",
       "      <td>PR</td>\n",
       "      <td>15.00</td>\n",
       "      <td>150</td>\n",
       "      <td>2021-06-17</td>\n",
       "      <td>125</td>\n",
       "      <td>200000.00</td>\n",
       "      <td>230000.00</td>\n",
       "      <td>29</td>\n",
       "      <td>24</td>\n",
       "      <td>0</td>\n",
       "      <td>0</td>\n",
       "      <td>DIVORCIADO</td>\n",
       "      <td>NaN</td>\n",
       "      <td>N</td>\n",
       "      <td>0.00</td>\n",
       "      <td>0</td>\n",
       "      <td>NaN</td>\n",
       "      <td>187142.91</td>\n",
       "      <td>50610.92</td>\n",
       "      <td>Nao</td>\n",
       "    </tr>\n",
       "    <tr>\n",
       "      <th>41577</th>\n",
       "      <td>322042475715</td>\n",
       "      <td>58</td>\n",
       "      <td>M</td>\n",
       "      <td>9000.00</td>\n",
       "      <td>RS</td>\n",
       "      <td>21.00</td>\n",
       "      <td>50</td>\n",
       "      <td>2022-04-11</td>\n",
       "      <td>34</td>\n",
       "      <td>17000.00</td>\n",
       "      <td>19550.00</td>\n",
       "      <td>19</td>\n",
       "      <td>9</td>\n",
       "      <td>5</td>\n",
       "      <td>0</td>\n",
       "      <td>SOLTEIRO(A)</td>\n",
       "      <td>NaN</td>\n",
       "      <td>N</td>\n",
       "      <td>0.00</td>\n",
       "      <td>0</td>\n",
       "      <td>NaN</td>\n",
       "      <td>12964.20</td>\n",
       "      <td>8558.60</td>\n",
       "      <td>Nao</td>\n",
       "    </tr>\n",
       "    <tr>\n",
       "      <th>61000</th>\n",
       "      <td>321956514715</td>\n",
       "      <td>31</td>\n",
       "      <td>M</td>\n",
       "      <td>1800.00</td>\n",
       "      <td>PA</td>\n",
       "      <td>17.00</td>\n",
       "      <td>20</td>\n",
       "      <td>2021-02-16</td>\n",
       "      <td>-10</td>\n",
       "      <td>3000.00</td>\n",
       "      <td>3450.00</td>\n",
       "      <td>9</td>\n",
       "      <td>2</td>\n",
       "      <td>2</td>\n",
       "      <td>0</td>\n",
       "      <td>OUTRO</td>\n",
       "      <td>NaN</td>\n",
       "      <td>N</td>\n",
       "      <td>0.00</td>\n",
       "      <td>0</td>\n",
       "      <td>NaN</td>\n",
       "      <td>0.00</td>\n",
       "      <td>3839.00</td>\n",
       "      <td>Nao</td>\n",
       "    </tr>\n",
       "    <tr>\n",
       "      <th>38889</th>\n",
       "      <td>321957033715</td>\n",
       "      <td>34</td>\n",
       "      <td>F</td>\n",
       "      <td>4500.00</td>\n",
       "      <td>MG</td>\n",
       "      <td>22.00</td>\n",
       "      <td>200</td>\n",
       "      <td>2021-02-18</td>\n",
       "      <td>175</td>\n",
       "      <td>80000.00</td>\n",
       "      <td>92000.00</td>\n",
       "      <td>33</td>\n",
       "      <td>9</td>\n",
       "      <td>14</td>\n",
       "      <td>0</td>\n",
       "      <td>CASADO (A)</td>\n",
       "      <td>NaN</td>\n",
       "      <td>N</td>\n",
       "      <td>0.00</td>\n",
       "      <td>0</td>\n",
       "      <td>NaN</td>\n",
       "      <td>82164.04</td>\n",
       "      <td>20088.42</td>\n",
       "      <td>Nao</td>\n",
       "    </tr>\n",
       "    <tr>\n",
       "      <th>7472</th>\n",
       "      <td>322051572715</td>\n",
       "      <td>60</td>\n",
       "      <td>M</td>\n",
       "      <td>8000.00</td>\n",
       "      <td>CE</td>\n",
       "      <td>18.00</td>\n",
       "      <td>100</td>\n",
       "      <td>2022-04-29</td>\n",
       "      <td>85</td>\n",
       "      <td>110000.00</td>\n",
       "      <td>126500.00</td>\n",
       "      <td>13</td>\n",
       "      <td>6</td>\n",
       "      <td>2</td>\n",
       "      <td>1</td>\n",
       "      <td>CASADO (A)</td>\n",
       "      <td>NaN</td>\n",
       "      <td>N</td>\n",
       "      <td>0.00</td>\n",
       "      <td>5</td>\n",
       "      <td>133.00</td>\n",
       "      <td>114138.87</td>\n",
       "      <td>17994.34</td>\n",
       "      <td>Sim</td>\n",
       "    </tr>\n",
       "    <tr>\n",
       "      <th>79540</th>\n",
       "      <td>322044286715</td>\n",
       "      <td>48</td>\n",
       "      <td>M</td>\n",
       "      <td>15000.00</td>\n",
       "      <td>SP</td>\n",
       "      <td>24.00</td>\n",
       "      <td>200</td>\n",
       "      <td>2022-03-25</td>\n",
       "      <td>225</td>\n",
       "      <td>400000.00</td>\n",
       "      <td>460000.00</td>\n",
       "      <td>2</td>\n",
       "      <td>1</td>\n",
       "      <td>1</td>\n",
       "      <td>3</td>\n",
       "      <td>CASADO (A)</td>\n",
       "      <td>NaN</td>\n",
       "      <td>N</td>\n",
       "      <td>0.00</td>\n",
       "      <td>14</td>\n",
       "      <td>406.00</td>\n",
       "      <td>498826.60</td>\n",
       "      <td>3168.00</td>\n",
       "      <td>Sim</td>\n",
       "    </tr>\n",
       "    <tr>\n",
       "      <th>62623</th>\n",
       "      <td>321979027715</td>\n",
       "      <td>40</td>\n",
       "      <td>M</td>\n",
       "      <td>7500.00</td>\n",
       "      <td>MG</td>\n",
       "      <td>16.00</td>\n",
       "      <td>120</td>\n",
       "      <td>2021-06-07</td>\n",
       "      <td>125</td>\n",
       "      <td>120000.00</td>\n",
       "      <td>138000.00</td>\n",
       "      <td>2</td>\n",
       "      <td>2</td>\n",
       "      <td>0</td>\n",
       "      <td>1</td>\n",
       "      <td>CASADO (A)</td>\n",
       "      <td>NaN</td>\n",
       "      <td>N</td>\n",
       "      <td>0.00</td>\n",
       "      <td>27</td>\n",
       "      <td>802.00</td>\n",
       "      <td>139788.56</td>\n",
       "      <td>1339.92</td>\n",
       "      <td>Sim</td>\n",
       "    </tr>\n",
       "    <tr>\n",
       "      <th>42271</th>\n",
       "      <td>322045782715</td>\n",
       "      <td>31</td>\n",
       "      <td>M</td>\n",
       "      <td>10000.00</td>\n",
       "      <td>PR</td>\n",
       "      <td>25.00</td>\n",
       "      <td>200</td>\n",
       "      <td>2022-03-29</td>\n",
       "      <td>185</td>\n",
       "      <td>100000.00</td>\n",
       "      <td>115000.00</td>\n",
       "      <td>2</td>\n",
       "      <td>2</td>\n",
       "      <td>0</td>\n",
       "      <td>1</td>\n",
       "      <td>CASADO (A)</td>\n",
       "      <td>NaN</td>\n",
       "      <td>N</td>\n",
       "      <td>0.00</td>\n",
       "      <td>17</td>\n",
       "      <td>498.00</td>\n",
       "      <td>125873.62</td>\n",
       "      <td>802.34</td>\n",
       "      <td>Sim</td>\n",
       "    </tr>\n",
       "    <tr>\n",
       "      <th>76238</th>\n",
       "      <td>321987691715</td>\n",
       "      <td>55</td>\n",
       "      <td>F</td>\n",
       "      <td>2500.00</td>\n",
       "      <td>PR</td>\n",
       "      <td>21.00</td>\n",
       "      <td>55</td>\n",
       "      <td>2021-07-12</td>\n",
       "      <td>38</td>\n",
       "      <td>20000.00</td>\n",
       "      <td>23000.00</td>\n",
       "      <td>1</td>\n",
       "      <td>1</td>\n",
       "      <td>0</td>\n",
       "      <td>0</td>\n",
       "      <td>OUTRO</td>\n",
       "      <td>Nenhum</td>\n",
       "      <td>N</td>\n",
       "      <td>0.00</td>\n",
       "      <td>27</td>\n",
       "      <td>802.00</td>\n",
       "      <td>24152.70</td>\n",
       "      <td>447.28</td>\n",
       "      <td>Sim</td>\n",
       "    </tr>\n",
       "  </tbody>\n",
       "</table>\n",
       "</div>"
      ],
      "text/plain": [
       "           Contrato  Idade Sexo  Valor_Renda UF_Cliente  Perc_Juros  \\\n",
       "36100  322030502715     58    M      2600.00         MG       18.00   \n",
       "46422  321981664715     60    F     15000.00         PR       15.00   \n",
       "41577  322042475715     58    M      9000.00         RS       21.00   \n",
       "61000  321956514715     31    M      1800.00         PA       17.00   \n",
       "38889  321957033715     34    F      4500.00         MG       22.00   \n",
       "7472   322051572715     60    M      8000.00         CE       18.00   \n",
       "79540  322044286715     48    M     15000.00         SP       24.00   \n",
       "62623  321979027715     40    M      7500.00         MG       16.00   \n",
       "42271  322045782715     31    M     10000.00         PR       25.00   \n",
       "76238  321987691715     55    F      2500.00         PR       21.00   \n",
       "\n",
       "       Prazo_Emprestimo Data_Contratacao  Prazo_Restante  VL_Emprestimo  \\\n",
       "36100               100       2022-01-10              82       25000.00   \n",
       "46422               150       2021-06-17             125      200000.00   \n",
       "41577                50       2022-04-11              34       17000.00   \n",
       "61000                20       2021-02-16             -10        3000.00   \n",
       "38889               200       2021-02-18             175       80000.00   \n",
       "7472                100       2022-04-29              85      110000.00   \n",
       "79540               200       2022-03-25             225      400000.00   \n",
       "62623               120       2021-06-07             125      120000.00   \n",
       "42271               200       2022-03-29             185      100000.00   \n",
       "76238                55       2021-07-12              38       20000.00   \n",
       "\n",
       "       VL_Emprestimo_ComJuros  QT_Total_Parcelas_Pagas  \\\n",
       "36100                28750.00                       22   \n",
       "46422               230000.00                       29   \n",
       "41577                19550.00                       19   \n",
       "61000                 3450.00                        9   \n",
       "38889                92000.00                       33   \n",
       "7472                126500.00                       13   \n",
       "79540               460000.00                        2   \n",
       "62623               138000.00                        2   \n",
       "42271               115000.00                        2   \n",
       "76238                23000.00                        1   \n",
       "\n",
       "       QT_Total_Parcelas_Pagas_EmDia  QT_Total_Parcelas_Pagas_EmAtraso  \\\n",
       "36100                             22                                 0   \n",
       "46422                             24                                 0   \n",
       "41577                              9                                 5   \n",
       "61000                              2                                 2   \n",
       "38889                              9                                14   \n",
       "7472                               6                                 2   \n",
       "79540                              1                                 1   \n",
       "62623                              2                                 0   \n",
       "42271                              2                                 0   \n",
       "76238                              1                                 0   \n",
       "\n",
       "       Qt_Renegociacao Estado_Civil Escolaridade Possui_Patrimonio  \\\n",
       "36100                0   CASADO (A)          NaN                 N   \n",
       "46422                0   DIVORCIADO          NaN                 N   \n",
       "41577                0  SOLTEIRO(A)          NaN                 N   \n",
       "61000                0        OUTRO          NaN                 N   \n",
       "38889                0   CASADO (A)          NaN                 N   \n",
       "7472                 1   CASADO (A)          NaN                 N   \n",
       "79540                3   CASADO (A)          NaN                 N   \n",
       "62623                1   CASADO (A)          NaN                 N   \n",
       "42271                1   CASADO (A)          NaN                 N   \n",
       "76238                0        OUTRO       Nenhum                 N   \n",
       "\n",
       "       VL_Patrimonio  QT_Parcelas_Atraso  QT_Dias_Atraso  Saldo_Devedor  \\\n",
       "36100           0.00                   0             NaN       23205.02   \n",
       "46422           0.00                   0             NaN      187142.91   \n",
       "41577           0.00                   0             NaN       12964.20   \n",
       "61000           0.00                   0             NaN           0.00   \n",
       "38889           0.00                   0             NaN       82164.04   \n",
       "7472            0.00                   5          133.00      114138.87   \n",
       "79540           0.00                  14          406.00      498826.60   \n",
       "62623           0.00                  27          802.00      139788.56   \n",
       "42271           0.00                  17          498.00      125873.62   \n",
       "76238           0.00                  27          802.00       24152.70   \n",
       "\n",
       "       Total_Pago Possivel_Fraude  \n",
       "36100     6897.52             Nao  \n",
       "46422    50610.92             Nao  \n",
       "41577     8558.60             Nao  \n",
       "61000     3839.00             Nao  \n",
       "38889    20088.42             Nao  \n",
       "7472     17994.34             Sim  \n",
       "79540     3168.00             Sim  \n",
       "62623     1339.92             Sim  \n",
       "42271      802.34             Sim  \n",
       "76238      447.28             Sim  "
      ]
     },
     "execution_count": 115,
     "metadata": {},
     "output_type": "execute_result"
    }
   ],
   "source": [
    "# Visualizando 10 linhas aleatórias\n",
    "df.sample(10)"
   ]
  },
  {
   "cell_type": "code",
   "execution_count": 116,
   "metadata": {},
   "outputs": [
    {
     "name": "stdout",
     "output_type": "stream",
     "text": [
      "Período:  25/11/2020  até  22/02/2023\n"
     ]
    }
   ],
   "source": [
    "# Visualizando o período dos dados\n",
    "data_inicial = pd.to_datetime(df['Data_Contratacao']).dt.date.min().strftime('%d/%m/%Y')\n",
    "data_final = pd.to_datetime(df['Data_Contratacao']).dt.date.max().strftime('%d/%m/%Y')\n",
    "print('Período: ', data_inicial, ' até ', data_final)"
   ]
  },
  {
   "cell_type": "code",
   "execution_count": 117,
   "metadata": {},
   "outputs": [
    {
     "name": "stdout",
     "output_type": "stream",
     "text": [
      "<class 'pandas.core.frame.DataFrame'>\n",
      "RangeIndex: 80143 entries, 0 to 80142\n",
      "Data columns (total 24 columns):\n",
      " #   Column                            Non-Null Count  Dtype  \n",
      "---  ------                            --------------  -----  \n",
      " 0   Contrato                          80143 non-null  int64  \n",
      " 1   Idade                             80143 non-null  int64  \n",
      " 2   Sexo                              80143 non-null  object \n",
      " 3   Valor_Renda                       80143 non-null  float64\n",
      " 4   UF_Cliente                        80143 non-null  object \n",
      " 5   Perc_Juros                        80143 non-null  float64\n",
      " 6   Prazo_Emprestimo                  80143 non-null  int64  \n",
      " 7   Data_Contratacao                  80143 non-null  object \n",
      " 8   Prazo_Restante                    80143 non-null  int64  \n",
      " 9   VL_Emprestimo                     80143 non-null  float64\n",
      " 10  VL_Emprestimo_ComJuros            80143 non-null  float64\n",
      " 11  QT_Total_Parcelas_Pagas           80143 non-null  int64  \n",
      " 12  QT_Total_Parcelas_Pagas_EmDia     80143 non-null  int64  \n",
      " 13  QT_Total_Parcelas_Pagas_EmAtraso  80143 non-null  int64  \n",
      " 14  Qt_Renegociacao                   80143 non-null  int64  \n",
      " 15  Estado_Civil                      80143 non-null  object \n",
      " 16  Escolaridade                      22845 non-null  object \n",
      " 17  Possui_Patrimonio                 80143 non-null  object \n",
      " 18  VL_Patrimonio                     80143 non-null  float64\n",
      " 19  QT_Parcelas_Atraso                80143 non-null  int64  \n",
      " 20  QT_Dias_Atraso                    54348 non-null  float64\n",
      " 21  Saldo_Devedor                     80143 non-null  float64\n",
      " 22  Total_Pago                        80143 non-null  float64\n",
      " 23  Possivel_Fraude                   80143 non-null  object \n",
      "dtypes: float64(8), int64(9), object(7)\n",
      "memory usage: 14.7+ MB\n"
     ]
    }
   ],
   "source": [
    "# Visualizando as informações básicas do DataFrame\n",
    "df.info()"
   ]
  },
  {
   "cell_type": "code",
   "execution_count": 118,
   "metadata": {},
   "outputs": [
    {
     "data": {
      "text/html": [
       "<div>\n",
       "<style scoped>\n",
       "    .dataframe tbody tr th:only-of-type {\n",
       "        vertical-align: middle;\n",
       "    }\n",
       "\n",
       "    .dataframe tbody tr th {\n",
       "        vertical-align: top;\n",
       "    }\n",
       "\n",
       "    .dataframe thead th {\n",
       "        text-align: right;\n",
       "    }\n",
       "</style>\n",
       "<table border=\"1\" class=\"dataframe\">\n",
       "  <thead>\n",
       "    <tr style=\"text-align: right;\">\n",
       "      <th></th>\n",
       "      <th>Contrato</th>\n",
       "      <th>Idade</th>\n",
       "      <th>Valor_Renda</th>\n",
       "      <th>Perc_Juros</th>\n",
       "      <th>Prazo_Emprestimo</th>\n",
       "      <th>Prazo_Restante</th>\n",
       "      <th>VL_Emprestimo</th>\n",
       "      <th>VL_Emprestimo_ComJuros</th>\n",
       "      <th>QT_Total_Parcelas_Pagas</th>\n",
       "      <th>QT_Total_Parcelas_Pagas_EmDia</th>\n",
       "      <th>QT_Total_Parcelas_Pagas_EmAtraso</th>\n",
       "      <th>Qt_Renegociacao</th>\n",
       "      <th>VL_Patrimonio</th>\n",
       "      <th>QT_Parcelas_Atraso</th>\n",
       "      <th>QT_Dias_Atraso</th>\n",
       "      <th>Saldo_Devedor</th>\n",
       "      <th>Total_Pago</th>\n",
       "    </tr>\n",
       "  </thead>\n",
       "  <tbody>\n",
       "    <tr>\n",
       "      <th>count</th>\n",
       "      <td>80143.00</td>\n",
       "      <td>80143.00</td>\n",
       "      <td>80143.00</td>\n",
       "      <td>80143.00</td>\n",
       "      <td>80143.00</td>\n",
       "      <td>80143.00</td>\n",
       "      <td>80143.00</td>\n",
       "      <td>80143.00</td>\n",
       "      <td>80143.00</td>\n",
       "      <td>80143.00</td>\n",
       "      <td>80143.00</td>\n",
       "      <td>80143.00</td>\n",
       "      <td>80143.00</td>\n",
       "      <td>80143.00</td>\n",
       "      <td>54348.00</td>\n",
       "      <td>80143.00</td>\n",
       "      <td>80143.00</td>\n",
       "    </tr>\n",
       "    <tr>\n",
       "      <th>mean</th>\n",
       "      <td>322023695416.17</td>\n",
       "      <td>38.82</td>\n",
       "      <td>29308.62</td>\n",
       "      <td>19.49</td>\n",
       "      <td>102.33</td>\n",
       "      <td>93.28</td>\n",
       "      <td>72847.78</td>\n",
       "      <td>83774.94</td>\n",
       "      <td>10.71</td>\n",
       "      <td>5.24</td>\n",
       "      <td>2.34</td>\n",
       "      <td>1.30</td>\n",
       "      <td>1.45</td>\n",
       "      <td>10.65</td>\n",
       "      <td>475.26</td>\n",
       "      <td>78622.32</td>\n",
       "      <td>9687.98</td>\n",
       "    </tr>\n",
       "    <tr>\n",
       "      <th>std</th>\n",
       "      <td>44697010.94</td>\n",
       "      <td>12.53</td>\n",
       "      <td>2748166.27</td>\n",
       "      <td>3.56</td>\n",
       "      <td>62.32</td>\n",
       "      <td>70.64</td>\n",
       "      <td>87407.93</td>\n",
       "      <td>100519.12</td>\n",
       "      <td>9.31</td>\n",
       "      <td>6.21</td>\n",
       "      <td>3.97</td>\n",
       "      <td>1.27</td>\n",
       "      <td>355.10</td>\n",
       "      <td>10.43</td>\n",
       "      <td>269.79</td>\n",
       "      <td>102318.95</td>\n",
       "      <td>19090.62</td>\n",
       "    </tr>\n",
       "    <tr>\n",
       "      <th>min</th>\n",
       "      <td>321944855715.00</td>\n",
       "      <td>4.00</td>\n",
       "      <td>0.00</td>\n",
       "      <td>4.49</td>\n",
       "      <td>14.00</td>\n",
       "      <td>-18.00</td>\n",
       "      <td>3000.00</td>\n",
       "      <td>3450.00</td>\n",
       "      <td>0.00</td>\n",
       "      <td>0.00</td>\n",
       "      <td>0.00</td>\n",
       "      <td>0.00</td>\n",
       "      <td>0.00</td>\n",
       "      <td>0.00</td>\n",
       "      <td>11.00</td>\n",
       "      <td>0.00</td>\n",
       "      <td>0.00</td>\n",
       "    </tr>\n",
       "    <tr>\n",
       "      <th>25%</th>\n",
       "      <td>321984967215.00</td>\n",
       "      <td>29.00</td>\n",
       "      <td>2050.00</td>\n",
       "      <td>18.00</td>\n",
       "      <td>55.00</td>\n",
       "      <td>36.00</td>\n",
       "      <td>15000.00</td>\n",
       "      <td>17250.00</td>\n",
       "      <td>2.00</td>\n",
       "      <td>1.00</td>\n",
       "      <td>0.00</td>\n",
       "      <td>0.00</td>\n",
       "      <td>0.00</td>\n",
       "      <td>0.00</td>\n",
       "      <td>284.00</td>\n",
       "      <td>12122.76</td>\n",
       "      <td>1052.16</td>\n",
       "    </tr>\n",
       "    <tr>\n",
       "      <th>50%</th>\n",
       "      <td>322024156715.00</td>\n",
       "      <td>37.00</td>\n",
       "      <td>3000.00</td>\n",
       "      <td>20.00</td>\n",
       "      <td>80.00</td>\n",
       "      <td>78.00</td>\n",
       "      <td>40000.00</td>\n",
       "      <td>46000.00</td>\n",
       "      <td>8.00</td>\n",
       "      <td>2.00</td>\n",
       "      <td>1.00</td>\n",
       "      <td>1.00</td>\n",
       "      <td>0.00</td>\n",
       "      <td>9.00</td>\n",
       "      <td>468.00</td>\n",
       "      <td>35489.36</td>\n",
       "      <td>3951.39</td>\n",
       "    </tr>\n",
       "    <tr>\n",
       "      <th>75%</th>\n",
       "      <td>322062662215.00</td>\n",
       "      <td>46.00</td>\n",
       "      <td>5000.00</td>\n",
       "      <td>21.00</td>\n",
       "      <td>170.00</td>\n",
       "      <td>156.00</td>\n",
       "      <td>100000.00</td>\n",
       "      <td>115000.00</td>\n",
       "      <td>18.00</td>\n",
       "      <td>7.00</td>\n",
       "      <td>3.00</td>\n",
       "      <td>2.00</td>\n",
       "      <td>0.00</td>\n",
       "      <td>20.00</td>\n",
       "      <td>708.00</td>\n",
       "      <td>117783.25</td>\n",
       "      <td>10886.24</td>\n",
       "    </tr>\n",
       "    <tr>\n",
       "      <th>max</th>\n",
       "      <td>322099706715.00</td>\n",
       "      <td>103.00</td>\n",
       "      <td>765000000.00</td>\n",
       "      <td>28.00</td>\n",
       "      <td>240.00</td>\n",
       "      <td>227.00</td>\n",
       "      <td>500000.00</td>\n",
       "      <td>575000.00</td>\n",
       "      <td>66.00</td>\n",
       "      <td>66.00</td>\n",
       "      <td>31.00</td>\n",
       "      <td>38.00</td>\n",
       "      <td>100000.00</td>\n",
       "      <td>34.00</td>\n",
       "      <td>1014.00</td>\n",
       "      <td>626261.27</td>\n",
       "      <td>465821.39</td>\n",
       "    </tr>\n",
       "  </tbody>\n",
       "</table>\n",
       "</div>"
      ],
      "text/plain": [
       "             Contrato    Idade  Valor_Renda  Perc_Juros  Prazo_Emprestimo  \\\n",
       "count        80143.00 80143.00     80143.00    80143.00          80143.00   \n",
       "mean  322023695416.17    38.82     29308.62       19.49            102.33   \n",
       "std       44697010.94    12.53   2748166.27        3.56             62.32   \n",
       "min   321944855715.00     4.00         0.00        4.49             14.00   \n",
       "25%   321984967215.00    29.00      2050.00       18.00             55.00   \n",
       "50%   322024156715.00    37.00      3000.00       20.00             80.00   \n",
       "75%   322062662215.00    46.00      5000.00       21.00            170.00   \n",
       "max   322099706715.00   103.00 765000000.00       28.00            240.00   \n",
       "\n",
       "       Prazo_Restante  VL_Emprestimo  VL_Emprestimo_ComJuros  \\\n",
       "count        80143.00       80143.00                80143.00   \n",
       "mean            93.28       72847.78                83774.94   \n",
       "std             70.64       87407.93               100519.12   \n",
       "min            -18.00        3000.00                 3450.00   \n",
       "25%             36.00       15000.00                17250.00   \n",
       "50%             78.00       40000.00                46000.00   \n",
       "75%            156.00      100000.00               115000.00   \n",
       "max            227.00      500000.00               575000.00   \n",
       "\n",
       "       QT_Total_Parcelas_Pagas  QT_Total_Parcelas_Pagas_EmDia  \\\n",
       "count                 80143.00                       80143.00   \n",
       "mean                     10.71                           5.24   \n",
       "std                       9.31                           6.21   \n",
       "min                       0.00                           0.00   \n",
       "25%                       2.00                           1.00   \n",
       "50%                       8.00                           2.00   \n",
       "75%                      18.00                           7.00   \n",
       "max                      66.00                          66.00   \n",
       "\n",
       "       QT_Total_Parcelas_Pagas_EmAtraso  Qt_Renegociacao  VL_Patrimonio  \\\n",
       "count                          80143.00         80143.00       80143.00   \n",
       "mean                               2.34             1.30           1.45   \n",
       "std                                3.97             1.27         355.10   \n",
       "min                                0.00             0.00           0.00   \n",
       "25%                                0.00             0.00           0.00   \n",
       "50%                                1.00             1.00           0.00   \n",
       "75%                                3.00             2.00           0.00   \n",
       "max                               31.00            38.00      100000.00   \n",
       "\n",
       "       QT_Parcelas_Atraso  QT_Dias_Atraso  Saldo_Devedor  Total_Pago  \n",
       "count            80143.00        54348.00       80143.00    80143.00  \n",
       "mean                10.65          475.26       78622.32     9687.98  \n",
       "std                 10.43          269.79      102318.95    19090.62  \n",
       "min                  0.00           11.00           0.00        0.00  \n",
       "25%                  0.00          284.00       12122.76     1052.16  \n",
       "50%                  9.00          468.00       35489.36     3951.39  \n",
       "75%                 20.00          708.00      117783.25    10886.24  \n",
       "max                 34.00         1014.00      626261.27   465821.39  "
      ]
     },
     "execution_count": 118,
     "metadata": {},
     "output_type": "execute_result"
    }
   ],
   "source": [
    "# Visualizando as estatísticas\n",
    "df.describe()"
   ]
  },
  {
   "cell_type": "code",
   "execution_count": 119,
   "metadata": {},
   "outputs": [
    {
     "data": {
      "text/plain": [
       "Contrato                                0\n",
       "Idade                                   0\n",
       "Sexo                                    0\n",
       "Valor_Renda                             0\n",
       "UF_Cliente                              0\n",
       "Perc_Juros                              0\n",
       "Prazo_Emprestimo                        0\n",
       "Data_Contratacao                        0\n",
       "Prazo_Restante                          0\n",
       "VL_Emprestimo                           0\n",
       "VL_Emprestimo_ComJuros                  0\n",
       "QT_Total_Parcelas_Pagas                 0\n",
       "QT_Total_Parcelas_Pagas_EmDia           0\n",
       "QT_Total_Parcelas_Pagas_EmAtraso        0\n",
       "Qt_Renegociacao                         0\n",
       "Estado_Civil                            0\n",
       "Escolaridade                        57298\n",
       "Possui_Patrimonio                       0\n",
       "VL_Patrimonio                           0\n",
       "QT_Parcelas_Atraso                      0\n",
       "QT_Dias_Atraso                      25795\n",
       "Saldo_Devedor                           0\n",
       "Total_Pago                              0\n",
       "Possivel_Fraude                         0\n",
       "dtype: int64"
      ]
     },
     "execution_count": 119,
     "metadata": {},
     "output_type": "execute_result"
    }
   ],
   "source": [
    "# Verificando se existem valores ausentes (TRATAR)\n",
    "df.isnull().sum()"
   ]
  },
  {
   "cell_type": "code",
   "execution_count": 120,
   "metadata": {},
   "outputs": [
    {
     "data": {
      "text/plain": [
       "468.0"
      ]
     },
     "execution_count": 120,
     "metadata": {},
     "output_type": "execute_result"
    }
   ],
   "source": [
    "df['QT_Dias_Atraso'].median()"
   ]
  },
  {
   "cell_type": "code",
   "execution_count": 121,
   "metadata": {},
   "outputs": [
    {
     "name": "stdout",
     "output_type": "stream",
     "text": [
      "Contrato : 80143\n",
      "Idade : 86\n",
      "Sexo : 2\n",
      "Valor_Renda : 4747\n",
      "UF_Cliente : 27\n",
      "Perc_Juros : 53\n"
     ]
    },
    {
     "name": "stdout",
     "output_type": "stream",
     "text": [
      "Prazo_Emprestimo : 60\n",
      "Data_Contratacao : 751\n",
      "Prazo_Restante : 93\n",
      "VL_Emprestimo : 73\n",
      "VL_Emprestimo_ComJuros : 73\n",
      "QT_Total_Parcelas_Pagas : 50\n",
      "QT_Total_Parcelas_Pagas_EmDia : 48\n",
      "QT_Total_Parcelas_Pagas_EmAtraso : 32\n",
      "Qt_Renegociacao : 15\n",
      "Estado_Civil : 8\n",
      "Escolaridade : 6\n",
      "Possui_Patrimonio : 2\n",
      "VL_Patrimonio : 4\n",
      "QT_Parcelas_Atraso : 35\n",
      "QT_Dias_Atraso : 39\n",
      "Saldo_Devedor : 64166\n",
      "Total_Pago : 54074\n",
      "Possivel_Fraude : 2\n"
     ]
    }
   ],
   "source": [
    "# Verificando os valores únicos de cada coluna do DataFrame\n",
    "unique_values = []\n",
    "for i in df.columns[:24].tolist():\n",
    "    print(i, ':', len(df[i].astype(str).value_counts()))\n",
    "    unique_values.append(len(df[i].astype(str).value_counts()))"
   ]
  },
  {
   "cell_type": "code",
   "execution_count": 122,
   "metadata": {},
   "outputs": [
    {
     "name": "stdout",
     "output_type": "stream",
     "text": [
      "Maior Idade:  103\n",
      "Menor Idade:  4\n",
      "----------------------------------------------------\n",
      "Maior Renda: 765000000.0\n",
      "Menor Renda: 0.0\n",
      "----------------------------------------------------\n",
      "Maior Juros: 28.0\n",
      "Menor Juros: 4.4931\n",
      "----------------------------------------------------\n",
      "Maior qtd de dias restante:  227\n",
      "Menor qtd de dias restante:  -18\n",
      "----------------------------------------------------\n",
      "Maior qtd de parcelas em atraso:  34\n",
      "Menor qtd de parcelas em atraso:  0\n",
      "----------------------------------------------------\n",
      "Maior qtd de dias de atraso:  1014.0\n",
      "Menor qtd de dias de atraso:  11.0\n",
      "----------------------------------------------------\n"
     ]
    }
   ],
   "source": [
    "# Identificando possíveis outliers explícitos\n",
    "print('Maior Idade: ', df['Idade'].max())\n",
    "print('Menor Idade: ', df['Idade'].min())\n",
    "print('----------------------------------------------------')\n",
    "print('Maior Renda:', df['Valor_Renda'].max())\n",
    "print('Menor Renda:', df['Valor_Renda'].min())\n",
    "print('----------------------------------------------------')\n",
    "print('Maior Juros:', df['Perc_Juros'].max())\n",
    "print('Menor Juros:', df['Perc_Juros'].min())\n",
    "print('----------------------------------------------------')\n",
    "print('Maior qtd de dias restante: ', df['Prazo_Restante'].max())\n",
    "print('Menor qtd de dias restante: ', df['Prazo_Restante'].min())\n",
    "print('----------------------------------------------------')\n",
    "print('Maior qtd de parcelas em atraso: ', df['QT_Parcelas_Atraso'].max())\n",
    "print('Menor qtd de parcelas em atraso: ', df['QT_Parcelas_Atraso'].min())\n",
    "print('----------------------------------------------------')\n",
    "print('Maior qtd de dias de atraso: ', df['QT_Dias_Atraso'].max())\n",
    "print('Menor qtd de dias de atraso: ', df['QT_Dias_Atraso'].min())\n",
    "print('----------------------------------------------------')\n"
   ]
  },
  {
   "cell_type": "code",
   "execution_count": 123,
   "metadata": {},
   "outputs": [
    {
     "data": {
      "text/plain": [
       "Idade\n",
       "4         2\n",
       "6         1\n",
       "7         1\n",
       "8         1\n",
       "9         1\n",
       "10        1\n",
       "17       12\n",
       "18       60\n",
       "19      424\n",
       "20     1065\n",
       "21     1533\n",
       "22     1688\n",
       "23     2059\n",
       "24     2047\n",
       "25     2310\n",
       "26     2516\n",
       "27     2431\n",
       "28     2641\n",
       "29     2652\n",
       "30     2591\n",
       "31     2512\n",
       "32     2532\n",
       "33     2429\n",
       "34     2493\n",
       "35     2577\n",
       "36     2596\n",
       "37     2333\n",
       "38     2340\n",
       "39     2301\n",
       "40     2214\n",
       "41     2325\n",
       "42     2078\n",
       "43     1997\n",
       "44     2056\n",
       "45     1831\n",
       "46     1691\n",
       "47     1503\n",
       "48     1386\n",
       "49     1366\n",
       "50     1202\n",
       "51     1293\n",
       "52     1056\n",
       "53     1060\n",
       "54      977\n",
       "55      934\n",
       "56      825\n",
       "57      781\n",
       "58      772\n",
       "59      733\n",
       "60      716\n",
       "61      558\n",
       "62      533\n",
       "63      470\n",
       "64      418\n",
       "65      364\n",
       "66      379\n",
       "67      308\n",
       "68      312\n",
       "69      332\n",
       "70      285\n",
       "71      226\n",
       "72      148\n",
       "73      210\n",
       "74      112\n",
       "75       93\n",
       "76       95\n",
       "77       63\n",
       "78       59\n",
       "79       37\n",
       "80       46\n",
       "81       33\n",
       "82       30\n",
       "83       24\n",
       "84       19\n",
       "85       11\n",
       "86        9\n",
       "87        5\n",
       "88        7\n",
       "89        3\n",
       "90        3\n",
       "91        1\n",
       "92        1\n",
       "94        1\n",
       "97        1\n",
       "99        1\n",
       "103       1\n",
       "dtype: int64"
      ]
     },
     "execution_count": 123,
     "metadata": {},
     "output_type": "execute_result"
    }
   ],
   "source": [
    "# Verificando a distribuição da idade dos clientes (AJUSTAR)\n",
    "df.groupby(['Idade']).size()"
   ]
  },
  {
   "cell_type": "code",
   "execution_count": 124,
   "metadata": {},
   "outputs": [
    {
     "data": {
      "text/plain": [
       "Prazo_Emprestimo\n",
       "14         1\n",
       "15        46\n",
       "16        19\n",
       "17         1\n",
       "18       104\n",
       "19        21\n",
       "20      1646\n",
       "22         1\n",
       "24         1\n",
       "25      1749\n",
       "28        42\n",
       "29         5\n",
       "30      2230\n",
       "34         7\n",
       "35      1588\n",
       "36      3710\n",
       "38        10\n",
       "39         2\n",
       "40      1671\n",
       "42        99\n",
       "43        13\n",
       "45      1818\n",
       "46         1\n",
       "48      1857\n",
       "49         9\n",
       "50      3139\n",
       "55      1687\n",
       "58         1\n",
       "60     10286\n",
       "61         2\n",
       "62         1\n",
       "65       353\n",
       "70      1271\n",
       "75      1136\n",
       "78        12\n",
       "80      7241\n",
       "85         9\n",
       "88         2\n",
       "90      1825\n",
       "95       192\n",
       "100    11720\n",
       "120     1359\n",
       "125        6\n",
       "130      164\n",
       "135       62\n",
       "140      815\n",
       "150      896\n",
       "155       15\n",
       "159        6\n",
       "160      729\n",
       "165       11\n",
       "170      971\n",
       "180     2104\n",
       "190     5417\n",
       "199       13\n",
       "200    10246\n",
       "210        1\n",
       "230        8\n",
       "235      144\n",
       "240     1648\n",
       "dtype: int64"
      ]
     },
     "execution_count": 124,
     "metadata": {},
     "output_type": "execute_result"
    }
   ],
   "source": [
    "# Verificando valores discrepantes na coluna de prazo dos empréstimos\n",
    "df.groupby(['Prazo_Emprestimo']).size()"
   ]
  },
  {
   "cell_type": "code",
   "execution_count": 125,
   "metadata": {},
   "outputs": [
    {
     "data": {
      "text/plain": [
       "QT_Dias_Atraso\n",
       "11.00      3626\n",
       "41.00      1572\n",
       "71.00      1115\n",
       "103.00     1028\n",
       "133.00      860\n",
       "162.00      914\n",
       "194.00     1027\n",
       "225.00     1330\n",
       "251.00     1957\n",
       "284.00     1956\n",
       "315.00     1833\n",
       "344.00     1986\n",
       "376.00     2177\n",
       "406.00     2024\n",
       "435.00     1980\n",
       "437.00        3\n",
       "468.00     1977\n",
       "498.00     1873\n",
       "529.00     1750\n",
       "559.00     1848\n",
       "589.00     1840\n",
       "617.00     1911\n",
       "649.00     2036\n",
       "680.00     1836\n",
       "705.00        1\n",
       "708.00     1936\n",
       "736.00        3\n",
       "741.00     2180\n",
       "764.00        1\n",
       "771.00     1952\n",
       "802.00     1731\n",
       "833.00     1471\n",
       "862.00     1174\n",
       "894.00     1061\n",
       "924.00      988\n",
       "953.00      962\n",
       "981.00      427\n",
       "1014.00       2\n",
       "dtype: int64"
      ]
     },
     "execution_count": 125,
     "metadata": {},
     "output_type": "execute_result"
    }
   ],
   "source": [
    "# Verificando valores discrepantes na coluna de dias de atraso\n",
    "df.groupby(['QT_Dias_Atraso']).size()"
   ]
  },
  {
   "cell_type": "code",
   "execution_count": 126,
   "metadata": {},
   "outputs": [
    {
     "data": {
      "text/plain": [
       "UF_Cliente\n",
       "AC       25\n",
       "AL      867\n",
       "AM       76\n",
       "AP       23\n",
       "BA     6709\n",
       "CE     2050\n",
       "DF      583\n",
       "ES      312\n",
       "GO     3860\n",
       "MA     3593\n",
       "MG    13718\n",
       "MS     2120\n",
       "MT      984\n",
       "PA     3443\n",
       "PB     1442\n",
       "PE     2502\n",
       "PI      731\n",
       "PR     5794\n",
       "RJ     2462\n",
       "RN      759\n",
       "RO       55\n",
       "RR       15\n",
       "RS     3500\n",
       "SC     2555\n",
       "SE      415\n",
       "SP    21393\n",
       "TO      157\n",
       "dtype: int64"
      ]
     },
     "execution_count": 126,
     "metadata": {},
     "output_type": "execute_result"
    }
   ],
   "source": [
    "# Verificando a distribuição geográfica dos clientes\n",
    "df.groupby(['UF_Cliente']).size()"
   ]
  },
  {
   "cell_type": "code",
   "execution_count": 127,
   "metadata": {},
   "outputs": [
    {
     "data": {
      "text/plain": [
       "Sexo\n",
       "F    31643\n",
       "M    48500\n",
       "dtype: int64"
      ]
     },
     "execution_count": 127,
     "metadata": {},
     "output_type": "execute_result"
    }
   ],
   "source": [
    "# Verificando a coluna Sexo\n",
    "df.groupby(['Sexo']).size()"
   ]
  },
  {
   "cell_type": "code",
   "execution_count": 128,
   "metadata": {},
   "outputs": [
    {
     "data": {
      "text/plain": [
       "Estado_Civil\n",
       "CASADO (A)                23576\n",
       "DIVORCIADO                 3783\n",
       "NENHUM                        4\n",
       "OUTRO                      5912\n",
       "SEPARADO JUDICIALMENTE        4\n",
       "SOLTEIRO(A)               45205\n",
       "UNIÃO ESTAVEL               501\n",
       "VIÚVO(A)                   1158\n",
       "dtype: int64"
      ]
     },
     "execution_count": 128,
     "metadata": {},
     "output_type": "execute_result"
    }
   ],
   "source": [
    "# Verificando a coluna de estado civil - (AJUSTAR)\n",
    "df.groupby(['Estado_Civil']).size()"
   ]
  },
  {
   "cell_type": "code",
   "execution_count": 129,
   "metadata": {},
   "outputs": [
    {
     "data": {
      "text/plain": [
       "Possui_Patrimonio\n",
       "N    79785\n",
       "S      358\n",
       "dtype: int64"
      ]
     },
     "execution_count": 129,
     "metadata": {},
     "output_type": "execute_result"
    }
   ],
   "source": [
    "# Verificando a coluna de patrimônio\n",
    "df.groupby(['Possui_Patrimonio']).size()"
   ]
  },
  {
   "cell_type": "code",
   "execution_count": 130,
   "metadata": {},
   "outputs": [
    {
     "data": {
      "text/plain": [
       "VL_Patrimonio\n",
       "0.00         80135\n",
       "1000.00          6\n",
       "10000.00         1\n",
       "100000.00        1\n",
       "dtype: int64"
      ]
     },
     "execution_count": 130,
     "metadata": {},
     "output_type": "execute_result"
    }
   ],
   "source": [
    "# Verificando a coluna do valor do patrimônio\n",
    "df.groupby(['VL_Patrimonio']).size()"
   ]
  },
  {
   "cell_type": "code",
   "execution_count": 131,
   "metadata": {},
   "outputs": [
    {
     "data": {
      "text/plain": [
       "Escolaridade\n",
       "Ensino Fundamental                        126\n",
       "Ensino Médio                              902\n",
       "Ensino Superior                           600\n",
       "Nenhum                                  21168\n",
       "Pós Graduação / Mestrado / Doutorado       49\n",
       "dtype: int64"
      ]
     },
     "execution_count": 131,
     "metadata": {},
     "output_type": "execute_result"
    }
   ],
   "source": [
    "# Verificando a coluna de grau de instrução\n",
    "df.groupby(['Escolaridade']).size()"
   ]
  },
  {
   "cell_type": "code",
   "execution_count": 132,
   "metadata": {},
   "outputs": [
    {
     "data": {
      "text/plain": [
       "Possivel_Fraude\n",
       "Nao    35632\n",
       "Sim    44511\n",
       "dtype: int64"
      ]
     },
     "execution_count": 132,
     "metadata": {},
     "output_type": "execute_result"
    }
   ],
   "source": [
    "# Verificando a coluna alvo ou TARGET\n",
    "df.groupby(['Possivel_Fraude']).size()"
   ]
  },
  {
   "cell_type": "code",
   "execution_count": 133,
   "metadata": {},
   "outputs": [
    {
     "data": {
      "text/plain": [
       "Estado_Civil\n",
       "CASADO (A)     24077\n",
       "DIVORCIADO      3787\n",
       "OUTRO           5916\n",
       "SOLTEIRO(A)    45205\n",
       "VIÚVO(A)        1158\n",
       "dtype: int64"
      ]
     },
     "execution_count": 133,
     "metadata": {},
     "output_type": "execute_result"
    }
   ],
   "source": [
    "# Ajustando as categorias de ESTADO_CIVIL\n",
    "df['Estado_Civil'] = df['Estado_Civil'].replace(['NENHUM'], 'OUTRO')\n",
    "df['Estado_Civil'] = df['Estado_Civil'].replace(['UNIÃO ESTAVEL'], 'CASADO (A)')\n",
    "df['Estado_Civil'] = df['Estado_Civil'].replace(['SEPARADO JUDICIALMENTE'], 'DIVORCIADO')\n",
    "\n",
    "df.groupby(['Estado_Civil']).size()"
   ]
  },
  {
   "cell_type": "code",
   "execution_count": 134,
   "metadata": {},
   "outputs": [
    {
     "data": {
      "text/plain": [
       "Idade\n",
       "18      60\n",
       "19     424\n",
       "20    1065\n",
       "21    1533\n",
       "22    1688\n",
       "23    2059\n",
       "24    2047\n",
       "25    2310\n",
       "26    2516\n",
       "27    2431\n",
       "28    2641\n",
       "29    2652\n",
       "30    2591\n",
       "31    2512\n",
       "32    2532\n",
       "33    2429\n",
       "34    2493\n",
       "35    2577\n",
       "36    2596\n",
       "37    2333\n",
       "38    2340\n",
       "39    2301\n",
       "40    2214\n",
       "41    2325\n",
       "42    2078\n",
       "43    1997\n",
       "44    2056\n",
       "45    1831\n",
       "46    1691\n",
       "47    1503\n",
       "48    1386\n",
       "49    1366\n",
       "50    1202\n",
       "51    1293\n",
       "52    1056\n",
       "53    1060\n",
       "54     977\n",
       "55     934\n",
       "56     825\n",
       "57     781\n",
       "58     772\n",
       "59     733\n",
       "60     716\n",
       "61     558\n",
       "62     533\n",
       "63     470\n",
       "64     418\n",
       "65     364\n",
       "66     379\n",
       "67     308\n",
       "68     312\n",
       "69     332\n",
       "70     285\n",
       "71     226\n",
       "72     148\n",
       "73     210\n",
       "74     112\n",
       "75      93\n",
       "76      95\n",
       "77      63\n",
       "78      59\n",
       "79      37\n",
       "80      46\n",
       "81      33\n",
       "82      30\n",
       "83      24\n",
       "84      19\n",
       "85      11\n",
       "dtype: int64"
      ]
     },
     "execution_count": 134,
     "metadata": {},
     "output_type": "execute_result"
    }
   ],
   "source": [
    "# Removendo os clientes fora da faixa de idade apta a contratar empréstimos\n",
    "df = df[(df['Idade'] >= 18) & (df['Idade'] <= 85)]\n",
    "df.groupby(['Idade']).size()"
   ]
  },
  {
   "cell_type": "code",
   "execution_count": 135,
   "metadata": {},
   "outputs": [
    {
     "name": "stdout",
     "output_type": "stream",
     "text": [
      "0\n"
     ]
    }
   ],
   "source": [
    "# Tratando valores ausentes através da mediana\n",
    "df['QT_Dias_Atraso'] = df['QT_Dias_Atraso'].fillna((df['QT_Dias_Atraso'].median()))\n",
    "print(df['QT_Dias_Atraso'].isnull().sum()) "
   ]
  },
  {
   "cell_type": "code",
   "execution_count": 136,
   "metadata": {},
   "outputs": [
    {
     "data": {
      "text/plain": [
       "Faixa_Etaria\n",
       "Até 21 Anos           3082\n",
       "De 22 até 35 Anos    33478\n",
       "De 36 até 45 Anos    22071\n",
       "De 46 até 55 Anos    12468\n",
       "De 56 até 65          6170\n",
       "De 66 até 75          2405\n",
       "Acima de 75 Anos       417\n",
       "dtype: int64"
      ]
     },
     "execution_count": 136,
     "metadata": {},
     "output_type": "execute_result"
    }
   ],
   "source": [
    "# Criando faixa etaria\n",
    "bins = [0, 21, 35, 45, 55, 65, 75, 100]\n",
    "labels = ['Até 21 Anos', 'De 22 até 35 Anos', 'De 36 até 45 Anos', 'De 46 até 55 Anos', 'De 56 até 65', 'De 66 até 75', 'Acima de 75 Anos']\n",
    "df['Faixa_Etaria'] = pd.cut(df['Idade'], bins=bins, labels=labels)\n",
    "df.groupby(['Faixa_Etaria']).size()"
   ]
  },
  {
   "cell_type": "code",
   "execution_count": 137,
   "metadata": {},
   "outputs": [
    {
     "data": {
      "text/plain": [
       "Faixa_Salarial\n",
       "Até 1k              254\n",
       "De 1k até 2k      19615\n",
       "De 2k até 3k      21480\n",
       "De 3k até 5k      21092\n",
       "De 5k até 10k     11667\n",
       "De 10k até 20k     3504\n",
       "De 20k até 30k     1044\n",
       "Acima de 30k       1435\n",
       "dtype: int64"
      ]
     },
     "execution_count": 137,
     "metadata": {},
     "output_type": "execute_result"
    }
   ],
   "source": [
    "# Criando faixas salariais\n",
    "bins = [-100, 1000, 2000, 3000, 5000, 10000, 20000, 30000, 1000000000]\n",
    "labels = ['Até 1k', 'De 1k até 2k', 'De 2k até 3k', 'De 3k até 5k', 'De 5k até 10k', 'De 10k até 20k', 'De 20k até 30k', 'Acima de 30k']\n",
    "df['Faixa_Salarial'] = pd.cut(df['Valor_Renda'], bins=bins, labels=labels)\n",
    "df.groupby(['Faixa_Salarial']).size()"
   ]
  },
  {
   "cell_type": "code",
   "execution_count": 138,
   "metadata": {},
   "outputs": [
    {
     "data": {
      "text/plain": [
       "Faixa_Prazo_Emprestimo\n",
       "Até 36 Meses            11166\n",
       "De 37 até 60 Meses      20581\n",
       "De 61 até 120 Meses     25099\n",
       "De 121 até 180 Meses     5778\n",
       "Acima de 180 Meses      17467\n",
       "Name: count, dtype: int64"
      ]
     },
     "execution_count": 138,
     "metadata": {},
     "output_type": "execute_result"
    }
   ],
   "source": [
    "# Criando faixas de prazo de empréstimo\n",
    "bins = [0, 36, 60, 120, 180, 720]\n",
    "labels = ['Até 36 Meses', 'De 37 até 60 Meses', 'De 61 até 120 Meses', 'De 121 até 180 Meses', 'Acima de 180 Meses']\n",
    "df['Faixa_Prazo_Emprestimo'] = pd.cut(df['Prazo_Emprestimo'], bins=bins, labels=labels)\n",
    "pd.value_counts(df.Faixa_Prazo_Emprestimo).sort_index()"
   ]
  },
  {
   "cell_type": "code",
   "execution_count": 139,
   "metadata": {},
   "outputs": [
    {
     "name": "stdout",
     "output_type": "stream",
     "text": [
      "Maior Prazo Restante: 227\n",
      "Menor Prazo Restante: -18\n"
     ]
    }
   ],
   "source": [
    "print('Maior Prazo Restante:', df['Prazo_Restante'].max())\n",
    "print('Menor Prazo Restante:', df['Prazo_Restante'].min())"
   ]
  },
  {
   "cell_type": "code",
   "execution_count": 140,
   "metadata": {},
   "outputs": [
    {
     "data": {
      "text/plain": [
       "Faixa_Prazo_Restante\n",
       "Até 60 Meses            31016\n",
       "De 61 até 120 Meses     24729\n",
       "De 121 até 180 Meses     9725\n",
       "Acima de 180 Meses      14621\n",
       "Name: count, dtype: int64"
      ]
     },
     "execution_count": 140,
     "metadata": {},
     "output_type": "execute_result"
    }
   ],
   "source": [
    "# Criando faixas de prazo restante\n",
    "bins = [-20, 60, 120, 180, 2000]\n",
    "labels = ['Até 60 Meses', 'De 61 até 120 Meses', 'De 121 até 180 Meses', 'Acima de 180 Meses']\n",
    "df['Faixa_Prazo_Restante'] = pd.cut(df['Prazo_Restante'], bins=bins, labels=labels)\n",
    "pd.value_counts(df.Faixa_Prazo_Restante).sort_index()"
   ]
  },
  {
   "cell_type": "code",
   "execution_count": 141,
   "metadata": {},
   "outputs": [
    {
     "name": "stdout",
     "output_type": "stream",
     "text": [
      "0\n"
     ]
    }
   ],
   "source": [
    "print(df['Faixa_Prazo_Restante'].isnull().sum()) "
   ]
  },
  {
   "cell_type": "code",
   "execution_count": 142,
   "metadata": {},
   "outputs": [
    {
     "data": {
      "text/plain": [
       "Faixa_Dias_Atraso\n",
       "Até 30 dias        3625\n",
       "De 31 até 60       1570\n",
       "De 61 até 90       1114\n",
       "De 91 até 120      1027\n",
       "De 121 até 180     1772\n",
       "De 181 até 240     2356\n",
       "De 241 até 365     7726\n",
       "Acima de 365      60901\n",
       "dtype: int64"
      ]
     },
     "execution_count": 142,
     "metadata": {},
     "output_type": "execute_result"
    }
   ],
   "source": [
    "# Criando faixa de dias em atraso\n",
    "bins = [-100, 30, 60, 90, 120, 180, 240, 365, 2000]\n",
    "labels = ['Até 30 dias', 'De 31 até 60', 'De 61 até 90', 'De 91 até 120', 'De 121 até 180', 'De 181 até 240','De 241 até 365', 'Acima de 365']\n",
    "df['Faixa_Dias_Atraso'] = pd.cut(df['QT_Dias_Atraso'], bins=bins, labels=labels)\n",
    "df.groupby(['Faixa_Dias_Atraso']).size()"
   ]
  },
  {
   "cell_type": "code",
   "execution_count": 143,
   "metadata": {},
   "outputs": [
    {
     "data": {
      "text/html": [
       "<div>\n",
       "<style scoped>\n",
       "    .dataframe tbody tr th:only-of-type {\n",
       "        vertical-align: middle;\n",
       "    }\n",
       "\n",
       "    .dataframe tbody tr th {\n",
       "        vertical-align: top;\n",
       "    }\n",
       "\n",
       "    .dataframe thead th {\n",
       "        text-align: right;\n",
       "    }\n",
       "</style>\n",
       "<table border=\"1\" class=\"dataframe\">\n",
       "  <thead>\n",
       "    <tr style=\"text-align: right;\">\n",
       "      <th></th>\n",
       "      <th>Contrato</th>\n",
       "      <th>Idade</th>\n",
       "      <th>Sexo</th>\n",
       "      <th>Valor_Renda</th>\n",
       "      <th>UF_Cliente</th>\n",
       "      <th>Perc_Juros</th>\n",
       "      <th>Prazo_Emprestimo</th>\n",
       "      <th>Data_Contratacao</th>\n",
       "      <th>Prazo_Restante</th>\n",
       "      <th>VL_Emprestimo</th>\n",
       "      <th>VL_Emprestimo_ComJuros</th>\n",
       "      <th>QT_Total_Parcelas_Pagas</th>\n",
       "      <th>QT_Total_Parcelas_Pagas_EmDia</th>\n",
       "      <th>QT_Total_Parcelas_Pagas_EmAtraso</th>\n",
       "      <th>Qt_Renegociacao</th>\n",
       "      <th>Estado_Civil</th>\n",
       "      <th>Escolaridade</th>\n",
       "      <th>Possui_Patrimonio</th>\n",
       "      <th>VL_Patrimonio</th>\n",
       "      <th>QT_Parcelas_Atraso</th>\n",
       "      <th>QT_Dias_Atraso</th>\n",
       "      <th>Saldo_Devedor</th>\n",
       "      <th>Total_Pago</th>\n",
       "      <th>Possivel_Fraude</th>\n",
       "      <th>Faixa_Etaria</th>\n",
       "      <th>Faixa_Salarial</th>\n",
       "      <th>Faixa_Prazo_Emprestimo</th>\n",
       "      <th>Faixa_Prazo_Restante</th>\n",
       "      <th>Faixa_Dias_Atraso</th>\n",
       "    </tr>\n",
       "  </thead>\n",
       "  <tbody>\n",
       "    <tr>\n",
       "      <th>42819</th>\n",
       "      <td>321997915715</td>\n",
       "      <td>57</td>\n",
       "      <td>F</td>\n",
       "      <td>1600.00</td>\n",
       "      <td>MA</td>\n",
       "      <td>24.00</td>\n",
       "      <td>25</td>\n",
       "      <td>2021-08-21</td>\n",
       "      <td>8</td>\n",
       "      <td>3000.00</td>\n",
       "      <td>3450.00</td>\n",
       "      <td>2</td>\n",
       "      <td>0</td>\n",
       "      <td>2</td>\n",
       "      <td>0</td>\n",
       "      <td>CASADO (A)</td>\n",
       "      <td>NaN</td>\n",
       "      <td>N</td>\n",
       "      <td>0.00</td>\n",
       "      <td>23</td>\n",
       "      <td>771.00</td>\n",
       "      <td>3688.86</td>\n",
       "      <td>310.83</td>\n",
       "      <td>Sim</td>\n",
       "      <td>De 56 até 65</td>\n",
       "      <td>De 1k até 2k</td>\n",
       "      <td>Até 36 Meses</td>\n",
       "      <td>Até 60 Meses</td>\n",
       "      <td>Acima de 365</td>\n",
       "    </tr>\n",
       "    <tr>\n",
       "      <th>39044</th>\n",
       "      <td>322010586715</td>\n",
       "      <td>32</td>\n",
       "      <td>M</td>\n",
       "      <td>3000.00</td>\n",
       "      <td>CE</td>\n",
       "      <td>21.00</td>\n",
       "      <td>60</td>\n",
       "      <td>2021-10-16</td>\n",
       "      <td>37</td>\n",
       "      <td>11000.00</td>\n",
       "      <td>12650.00</td>\n",
       "      <td>4</td>\n",
       "      <td>1</td>\n",
       "      <td>2</td>\n",
       "      <td>1</td>\n",
       "      <td>CASADO (A)</td>\n",
       "      <td>NaN</td>\n",
       "      <td>N</td>\n",
       "      <td>0.00</td>\n",
       "      <td>21</td>\n",
       "      <td>617.00</td>\n",
       "      <td>12868.30</td>\n",
       "      <td>920.46</td>\n",
       "      <td>Sim</td>\n",
       "      <td>De 22 até 35 Anos</td>\n",
       "      <td>De 2k até 3k</td>\n",
       "      <td>De 37 até 60 Meses</td>\n",
       "      <td>Até 60 Meses</td>\n",
       "      <td>Acima de 365</td>\n",
       "    </tr>\n",
       "    <tr>\n",
       "      <th>40792</th>\n",
       "      <td>322016806715</td>\n",
       "      <td>58</td>\n",
       "      <td>M</td>\n",
       "      <td>4000.00</td>\n",
       "      <td>SC</td>\n",
       "      <td>21.00</td>\n",
       "      <td>40</td>\n",
       "      <td>2021-11-12</td>\n",
       "      <td>25</td>\n",
       "      <td>25000.00</td>\n",
       "      <td>28750.00</td>\n",
       "      <td>22</td>\n",
       "      <td>1</td>\n",
       "      <td>1</td>\n",
       "      <td>3</td>\n",
       "      <td>CASADO (A)</td>\n",
       "      <td>NaN</td>\n",
       "      <td>N</td>\n",
       "      <td>0.00</td>\n",
       "      <td>0</td>\n",
       "      <td>468.00</td>\n",
       "      <td>8000.67</td>\n",
       "      <td>23559.74</td>\n",
       "      <td>Nao</td>\n",
       "      <td>De 56 até 65</td>\n",
       "      <td>De 3k até 5k</td>\n",
       "      <td>De 37 até 60 Meses</td>\n",
       "      <td>Até 60 Meses</td>\n",
       "      <td>Acima de 365</td>\n",
       "    </tr>\n",
       "    <tr>\n",
       "      <th>74270</th>\n",
       "      <td>321965508715</td>\n",
       "      <td>47</td>\n",
       "      <td>M</td>\n",
       "      <td>1600.00</td>\n",
       "      <td>MG</td>\n",
       "      <td>21.00</td>\n",
       "      <td>50</td>\n",
       "      <td>2021-04-03</td>\n",
       "      <td>25</td>\n",
       "      <td>10000.00</td>\n",
       "      <td>11500.00</td>\n",
       "      <td>21</td>\n",
       "      <td>15</td>\n",
       "      <td>5</td>\n",
       "      <td>0</td>\n",
       "      <td>CASADO (A)</td>\n",
       "      <td>NaN</td>\n",
       "      <td>N</td>\n",
       "      <td>0.00</td>\n",
       "      <td>0</td>\n",
       "      <td>468.00</td>\n",
       "      <td>0.00</td>\n",
       "      <td>14208.55</td>\n",
       "      <td>Nao</td>\n",
       "      <td>De 46 até 55 Anos</td>\n",
       "      <td>De 1k até 2k</td>\n",
       "      <td>De 37 até 60 Meses</td>\n",
       "      <td>Até 60 Meses</td>\n",
       "      <td>Acima de 365</td>\n",
       "    </tr>\n",
       "    <tr>\n",
       "      <th>60596</th>\n",
       "      <td>321982908715</td>\n",
       "      <td>40</td>\n",
       "      <td>M</td>\n",
       "      <td>6000.00</td>\n",
       "      <td>SP</td>\n",
       "      <td>21.00</td>\n",
       "      <td>60</td>\n",
       "      <td>2021-06-23</td>\n",
       "      <td>38</td>\n",
       "      <td>8000.00</td>\n",
       "      <td>9200.00</td>\n",
       "      <td>21</td>\n",
       "      <td>9</td>\n",
       "      <td>10</td>\n",
       "      <td>3</td>\n",
       "      <td>CASADO (A)</td>\n",
       "      <td>Nenhum</td>\n",
       "      <td>N</td>\n",
       "      <td>0.00</td>\n",
       "      <td>2</td>\n",
       "      <td>41.00</td>\n",
       "      <td>6406.79</td>\n",
       "      <td>3627.84</td>\n",
       "      <td>Nao</td>\n",
       "      <td>De 36 até 45 Anos</td>\n",
       "      <td>De 5k até 10k</td>\n",
       "      <td>De 37 até 60 Meses</td>\n",
       "      <td>Até 60 Meses</td>\n",
       "      <td>De 31 até 60</td>\n",
       "    </tr>\n",
       "  </tbody>\n",
       "</table>\n",
       "</div>"
      ],
      "text/plain": [
       "           Contrato  Idade Sexo  Valor_Renda UF_Cliente  Perc_Juros  \\\n",
       "42819  321997915715     57    F      1600.00         MA       24.00   \n",
       "39044  322010586715     32    M      3000.00         CE       21.00   \n",
       "40792  322016806715     58    M      4000.00         SC       21.00   \n",
       "74270  321965508715     47    M      1600.00         MG       21.00   \n",
       "60596  321982908715     40    M      6000.00         SP       21.00   \n",
       "\n",
       "       Prazo_Emprestimo Data_Contratacao  Prazo_Restante  VL_Emprestimo  \\\n",
       "42819                25       2021-08-21               8        3000.00   \n",
       "39044                60       2021-10-16              37       11000.00   \n",
       "40792                40       2021-11-12              25       25000.00   \n",
       "74270                50       2021-04-03              25       10000.00   \n",
       "60596                60       2021-06-23              38        8000.00   \n",
       "\n",
       "       VL_Emprestimo_ComJuros  QT_Total_Parcelas_Pagas  \\\n",
       "42819                 3450.00                        2   \n",
       "39044                12650.00                        4   \n",
       "40792                28750.00                       22   \n",
       "74270                11500.00                       21   \n",
       "60596                 9200.00                       21   \n",
       "\n",
       "       QT_Total_Parcelas_Pagas_EmDia  QT_Total_Parcelas_Pagas_EmAtraso  \\\n",
       "42819                              0                                 2   \n",
       "39044                              1                                 2   \n",
       "40792                              1                                 1   \n",
       "74270                             15                                 5   \n",
       "60596                              9                                10   \n",
       "\n",
       "       Qt_Renegociacao Estado_Civil Escolaridade Possui_Patrimonio  \\\n",
       "42819                0   CASADO (A)          NaN                 N   \n",
       "39044                1   CASADO (A)          NaN                 N   \n",
       "40792                3   CASADO (A)          NaN                 N   \n",
       "74270                0   CASADO (A)          NaN                 N   \n",
       "60596                3   CASADO (A)       Nenhum                 N   \n",
       "\n",
       "       VL_Patrimonio  QT_Parcelas_Atraso  QT_Dias_Atraso  Saldo_Devedor  \\\n",
       "42819           0.00                  23          771.00        3688.86   \n",
       "39044           0.00                  21          617.00       12868.30   \n",
       "40792           0.00                   0          468.00        8000.67   \n",
       "74270           0.00                   0          468.00           0.00   \n",
       "60596           0.00                   2           41.00        6406.79   \n",
       "\n",
       "       Total_Pago Possivel_Fraude       Faixa_Etaria Faixa_Salarial  \\\n",
       "42819      310.83             Sim       De 56 até 65   De 1k até 2k   \n",
       "39044      920.46             Sim  De 22 até 35 Anos   De 2k até 3k   \n",
       "40792    23559.74             Nao       De 56 até 65   De 3k até 5k   \n",
       "74270    14208.55             Nao  De 46 até 55 Anos   De 1k até 2k   \n",
       "60596     3627.84             Nao  De 36 até 45 Anos  De 5k até 10k   \n",
       "\n",
       "      Faixa_Prazo_Emprestimo Faixa_Prazo_Restante Faixa_Dias_Atraso  \n",
       "42819           Até 36 Meses         Até 60 Meses      Acima de 365  \n",
       "39044     De 37 até 60 Meses         Até 60 Meses      Acima de 365  \n",
       "40792     De 37 até 60 Meses         Até 60 Meses      Acima de 365  \n",
       "74270     De 37 até 60 Meses         Até 60 Meses      Acima de 365  \n",
       "60596     De 37 até 60 Meses         Até 60 Meses      De 31 até 60  "
      ]
     },
     "execution_count": 143,
     "metadata": {},
     "output_type": "execute_result"
    }
   ],
   "source": [
    "# Visualizando os dados após as mudanças\n",
    "df.sample(5)"
   ]
  },
  {
   "cell_type": "code",
   "execution_count": 144,
   "metadata": {},
   "outputs": [
    {
     "name": "stdout",
     "output_type": "stream",
     "text": [
      "0\n"
     ]
    }
   ],
   "source": [
    "# Substituindo os valores nulos na coluna 'Escolaridade' por \"Nenhum\"\n",
    "df['Escolaridade'].fillna('Nenhum', inplace=True)\n",
    "# Verificando o DataFrame após a substituição\n",
    "print(df['Escolaridade'].isnull().sum()) "
   ]
  },
  {
   "cell_type": "markdown",
   "metadata": {},
   "source": [
    "## Visualização dos dados através de gráficos"
   ]
  },
  {
   "cell_type": "code",
   "execution_count": 145,
   "metadata": {},
   "outputs": [
    {
     "data": {
      "image/png": "[encoded data removed]",
      "text/plain": [
       "<Figure size 1500x1000 with 1 Axes>"
      ]
     },
     "metadata": {},
     "output_type": "display_data"
    }
   ],
   "source": [
    "df.Sexo.value_counts().plot(kind='bar', title='Sexo', color = ['#1B98E0', '#C40233']);"
   ]
  },
  {
   "cell_type": "code",
   "execution_count": 146,
   "metadata": {},
   "outputs": [
    {
     "data": {
      "image/png": "[encoded data removed]",
      "text/plain": [
       "<Figure size 1000x600 with 1 Axes>"
      ]
     },
     "metadata": {},
     "output_type": "display_data"
    }
   ],
   "source": [
    "faixa_etaria = df.groupby('Faixa_Etaria')['Contrato'].nunique().sort_values(ascending=False).reset_index()\n",
    "\n",
    "plt.figure(figsize=(10, 6))\n",
    "sns.barplot(x='Faixa_Etaria', y='Contrato', data=faixa_etaria, palette='gist_heat')\n",
    "plt.title('Faixa Etária dos Clientes')\n",
    "plt.xlabel('Faixa Etária')\n",
    "plt.ylabel('Clientes')\n",
    "plt.xticks(rotation=45, ha='right')\n",
    "plt.show()"
   ]
  },
  {
   "cell_type": "code",
   "execution_count": 147,
   "metadata": {},
   "outputs": [
    {
     "data": {
      "image/png": "[encoded data removed]",
      "text/plain": [
       "<Figure size 1000x600 with 1 Axes>"
      ]
     },
     "metadata": {},
     "output_type": "display_data"
    }
   ],
   "source": [
    "estado_civil = df.groupby('Estado_Civil')['Contrato'].nunique().sort_values(ascending=False).reset_index()\n",
    "\n",
    "plt.figure(figsize=(10, 6))\n",
    "sns.barplot(x='Estado_Civil', y='Contrato', data=estado_civil, palette='autumn')\n",
    "plt.title('Estado Civil dos Clientes')\n",
    "plt.xlabel('Estado Civil')\n",
    "plt.ylabel('Clientes')\n",
    "plt.xticks(rotation=45, ha='right')\n",
    "plt.show()"
   ]
  },
  {
   "cell_type": "code",
   "execution_count": 148,
   "metadata": {},
   "outputs": [
    {
     "data": {
      "image/png": "[encoded data removed]",
      "text/plain": [
       "<Figure size 1000x600 with 1 Axes>"
      ]
     },
     "metadata": {},
     "output_type": "display_data"
    }
   ],
   "source": [
    "grau_instrucao = df.groupby('Escolaridade')['Contrato'].nunique().sort_values(ascending=False).reset_index()\n",
    "\n",
    "plt.figure(figsize=(10, 6))\n",
    "sns.barplot(x='Escolaridade', y='Contrato', data=grau_instrucao, palette='autumn')\n",
    "plt.title('Escolaridade dos Clientes')\n",
    "plt.xlabel('Escolaridade')\n",
    "plt.ylabel('Clientes')\n",
    "plt.xticks(rotation=45, ha='right')\n",
    "plt.show()"
   ]
  },
  {
   "cell_type": "code",
   "execution_count": 149,
   "metadata": {},
   "outputs": [
    {
     "data": {
      "image/png": "[encoded data removed]",
      "text/plain": [
       "<Figure size 1200x600 with 1 Axes>"
      ]
     },
     "metadata": {},
     "output_type": "display_data"
    }
   ],
   "source": [
    "cliente_UF = df.groupby('UF_Cliente')['Contrato'].nunique().sort_values(ascending=False).reset_index()\n",
    "\n",
    "plt.figure(figsize=(12, 6))\n",
    "sns.barplot(x='UF_Cliente', y='Contrato', data=cliente_UF, palette='afmhot')\n",
    "plt.title('Clientes por Estado')\n",
    "plt.xlabel('UF')\n",
    "plt.ylabel('Clientes')\n",
    "plt.xticks(rotation=45, ha='right')\n",
    "plt.show()"
   ]
  },
  {
   "cell_type": "code",
   "execution_count": 150,
   "metadata": {},
   "outputs": [
    {
     "data": {
      "image/png": "[encoded data removed]",
      "text/plain": [
       "<Figure size 1000x600 with 1 Axes>"
      ]
     },
     "metadata": {},
     "output_type": "display_data"
    }
   ],
   "source": [
    "Prazo_emprestimo = df.groupby('Faixa_Prazo_Emprestimo')['Contrato'].nunique().sort_values(ascending=False).reset_index()\n",
    "\n",
    "plt.figure(figsize=(10, 6))\n",
    "sns.barplot(x='Faixa_Prazo_Emprestimo', y='Contrato', data=Prazo_emprestimo, palette='YlOrBr')\n",
    "plt.title('Prazos de emprestimo')\n",
    "plt.xlabel('Prazo')\n",
    "plt.ylabel('Clientes')\n",
    "plt.xticks(rotation=45, ha='right')\n",
    "plt.show()"
   ]
  },
  {
   "cell_type": "code",
   "execution_count": 151,
   "metadata": {},
   "outputs": [
    {
     "data": {
      "image/png": "[encoded data removed]",
      "text/plain": [
       "<Figure size 1000x600 with 1 Axes>"
      ]
     },
     "metadata": {},
     "output_type": "display_data"
    }
   ],
   "source": [
    "Prazo_restante = df.groupby('Faixa_Prazo_Restante')['Contrato'].nunique().sort_values(ascending=False).reset_index()\n",
    "\n",
    "plt.figure(figsize=(10, 6))\n",
    "sns.barplot(x='Faixa_Prazo_Restante', y='Contrato', data=Prazo_restante, palette='YlOrBr')\n",
    "plt.title('Prazos de Emprestimo Restante')\n",
    "plt.xlabel('Prazo Restante')\n",
    "plt.ylabel('Clientes')\n",
    "plt.xticks(rotation=45, ha='right')\n",
    "plt.show()"
   ]
  },
  {
   "cell_type": "code",
   "execution_count": 152,
   "metadata": {},
   "outputs": [
    {
     "data": {
      "image/png": "[encoded data removed]",
      "text/plain": [
       "<Figure size 1000x600 with 1 Axes>"
      ]
     },
     "metadata": {},
     "output_type": "display_data"
    }
   ],
   "source": [
    "dias_atraso = df.groupby('Faixa_Dias_Atraso')['Contrato'].nunique().sort_values(ascending=False).reset_index()\n",
    "\n",
    "plt.figure(figsize=(10, 6))\n",
    "sns.barplot(x='Faixa_Dias_Atraso', y='Contrato', data=dias_atraso, palette='YlOrBr')\n",
    "plt.title('Dias de Atraso no Pagamento')\n",
    "plt.xlabel('Dias de Atraso')\n",
    "plt.ylabel('Clientes')\n",
    "plt.xticks(rotation=45, ha='right')\n",
    "plt.show()"
   ]
  },
  {
   "cell_type": "code",
   "execution_count": 153,
   "metadata": {},
   "outputs": [
    {
     "data": {
      "image/png": "[encoded data removed]",
      "text/plain": [
       "<Figure size 1600x800 with 1 Axes>"
      ]
     },
     "metadata": {},
     "output_type": "display_data"
    }
   ],
   "source": [
    "faixa_salarial = df.groupby('Faixa_Salarial')['Contrato'].nunique().sort_values(ascending=False).reset_index()\n",
    "\n",
    "plt.figure(figsize=(16, 8))\n",
    "ax = sns.barplot(x='Contrato', y='Faixa_Salarial', data=faixa_salarial, palette='gist_heat', orient='h')\n",
    "plt.title('Faixa Salarial dos Clientes')\n",
    "plt.xlabel('Clientes')\n",
    "plt.ylabel('Renda')\n",
    "\n",
    "for p in ax.patches:\n",
    "    ax.annotate(format(p.get_width(), '.2f'), \n",
    "                (p.get_width(), p.get_y() + p.get_height() / 2.), \n",
    "                va='center', xytext=(9, 0), textcoords='offset points')\n",
    "\n",
    "plt.show()"
   ]
  },
  {
   "cell_type": "code",
   "execution_count": 154,
   "metadata": {},
   "outputs": [
    {
     "data": {
      "image/png": "[encoded data removed]",
      "text/plain": [
       "<Figure size 1000x600 with 1 Axes>"
      ]
     },
     "metadata": {},
     "output_type": "display_data"
    }
   ],
   "source": [
    "patrimonio = df.groupby('Possui_Patrimonio')['Contrato'].nunique().sort_values(ascending=False).reset_index()\n",
    "\n",
    "# Configurando o tamanho do gráfico\n",
    "plt.figure(figsize=(10, 6))\n",
    "\n",
    "# Criando o gráfico de pizza\n",
    "plt.pie(patrimonio['Contrato'], labels=patrimonio['Possui_Patrimonio'], autopct='%1.1f%%', colors=sns.color_palette('tab10'))\n",
    "\n",
    "# Adicionando título e exibindo o gráfico\n",
    "plt.title('Clientes que Declararam Possuir Patrimônio')\n",
    "plt.show()"
   ]
  },
  {
   "cell_type": "code",
   "execution_count": 155,
   "metadata": {},
   "outputs": [
    {
     "data": {
      "image/png": "[encoded data removed]",
      "text/plain": [
       "<Figure size 1500x1000 with 1 Axes>"
      ]
     },
     "metadata": {},
     "output_type": "display_data"
    }
   ],
   "source": [
    "# Visualizando a distribuição da variável Alvo\n",
    "df.Possivel_Fraude.value_counts().plot(kind='bar', title='Possíveis Fraudes (Variável Target)',color = ['#d20', '#393']);"
   ]
  },
  {
   "cell_type": "markdown",
   "metadata": {},
   "source": [
    "### Reorganizando os dados mais relevantes para o modelo"
   ]
  },
  {
   "cell_type": "code",
   "execution_count": 156,
   "metadata": {},
   "outputs": [
    {
     "data": {
      "text/plain": [
       "Index(['Contrato', 'Idade', 'Sexo', 'Valor_Renda', 'UF_Cliente', 'Perc_Juros',\n",
       "       'Prazo_Emprestimo', 'Data_Contratacao', 'Prazo_Restante',\n",
       "       'VL_Emprestimo', 'VL_Emprestimo_ComJuros', 'QT_Total_Parcelas_Pagas',\n",
       "       'QT_Total_Parcelas_Pagas_EmDia', 'QT_Total_Parcelas_Pagas_EmAtraso',\n",
       "       'Qt_Renegociacao', 'Estado_Civil', 'Escolaridade', 'Possui_Patrimonio',\n",
       "       'VL_Patrimonio', 'QT_Parcelas_Atraso', 'QT_Dias_Atraso',\n",
       "       'Saldo_Devedor', 'Total_Pago', 'Possivel_Fraude', 'Faixa_Etaria',\n",
       "       'Faixa_Salarial', 'Faixa_Prazo_Emprestimo', 'Faixa_Prazo_Restante',\n",
       "       'Faixa_Dias_Atraso'],\n",
       "      dtype='object')"
      ]
     },
     "execution_count": 156,
     "metadata": {},
     "output_type": "execute_result"
    }
   ],
   "source": [
    "df.columns"
   ]
  },
  {
   "cell_type": "code",
   "execution_count": 157,
   "metadata": {},
   "outputs": [
    {
     "name": "stdout",
     "output_type": "stream",
     "text": [
      "<class 'pandas.core.frame.DataFrame'>\n",
      "Index: 80091 entries, 0 to 80142\n",
      "Data columns (total 29 columns):\n",
      " #   Column                            Non-Null Count  Dtype   \n",
      "---  ------                            --------------  -----   \n",
      " 0   Contrato                          80091 non-null  int64   \n",
      " 1   Idade                             80091 non-null  int64   \n",
      " 2   Sexo                              80091 non-null  object  \n",
      " 3   Valor_Renda                       80091 non-null  float64 \n",
      " 4   UF_Cliente                        80091 non-null  object  \n",
      " 5   Perc_Juros                        80091 non-null  float64 \n",
      " 6   Prazo_Emprestimo                  80091 non-null  int64   \n",
      " 7   Data_Contratacao                  80091 non-null  object  \n",
      " 8   Prazo_Restante                    80091 non-null  int64   \n",
      " 9   VL_Emprestimo                     80091 non-null  float64 \n",
      " 10  VL_Emprestimo_ComJuros            80091 non-null  float64 \n",
      " 11  QT_Total_Parcelas_Pagas           80091 non-null  int64   \n",
      " 12  QT_Total_Parcelas_Pagas_EmDia     80091 non-null  int64   \n",
      " 13  QT_Total_Parcelas_Pagas_EmAtraso  80091 non-null  int64   \n",
      " 14  Qt_Renegociacao                   80091 non-null  int64   \n",
      " 15  Estado_Civil                      80091 non-null  object  \n",
      " 16  Escolaridade                      80091 non-null  object  \n",
      " 17  Possui_Patrimonio                 80091 non-null  object  \n",
      " 18  VL_Patrimonio                     80091 non-null  float64 \n",
      " 19  QT_Parcelas_Atraso                80091 non-null  int64   \n",
      " 20  QT_Dias_Atraso                    80091 non-null  float64 \n",
      " 21  Saldo_Devedor                     80091 non-null  float64 \n",
      " 22  Total_Pago                        80091 non-null  float64 \n",
      " 23  Possivel_Fraude                   80091 non-null  object  \n",
      " 24  Faixa_Etaria                      80091 non-null  category\n",
      " 25  Faixa_Salarial                    80091 non-null  category\n",
      " 26  Faixa_Prazo_Emprestimo            80091 non-null  category\n",
      " 27  Faixa_Prazo_Restante              80091 non-null  category\n",
      " 28  Faixa_Dias_Atraso                 80091 non-null  category\n",
      "dtypes: category(5), float64(8), int64(9), object(7)\n",
      "memory usage: 15.7+ MB\n"
     ]
    }
   ],
   "source": [
    "df.info()"
   ]
  },
  {
   "cell_type": "code",
   "execution_count": 158,
   "metadata": {},
   "outputs": [],
   "source": [
    "columns = ['Sexo', 'UF_Cliente', 'Faixa_Etaria', 'Perc_Juros', \n",
    "       'VL_Emprestimo', 'VL_Emprestimo_ComJuros', 'QT_Total_Parcelas_Pagas',\n",
    "       'QT_Total_Parcelas_Pagas_EmDia', 'QT_Total_Parcelas_Pagas_EmAtraso',\n",
    "       'Qt_Renegociacao', 'Estado_Civil', 'QT_Parcelas_Atraso', 'Saldo_Devedor', \n",
    "       'Total_Pago', 'Faixa_Prazo_Restante', 'Faixa_Salarial', 'Faixa_Prazo_Emprestimo', \n",
    "       'Faixa_Dias_Atraso', 'Possivel_Fraude']\n",
    "\n",
    "df_mod = pd.DataFrame(df, columns=columns)"
   ]
  },
  {
   "cell_type": "code",
   "execution_count": 159,
   "metadata": {},
   "outputs": [
    {
     "name": "stdout",
     "output_type": "stream",
     "text": [
      "<class 'pandas.core.frame.DataFrame'>\n",
      "Index: 80091 entries, 0 to 80142\n",
      "Data columns (total 19 columns):\n",
      " #   Column                            Non-Null Count  Dtype   \n",
      "---  ------                            --------------  -----   \n",
      " 0   Sexo                              80091 non-null  object  \n",
      " 1   UF_Cliente                        80091 non-null  object  \n",
      " 2   Faixa_Etaria                      80091 non-null  category\n",
      " 3   Perc_Juros                        80091 non-null  float64 \n",
      " 4   VL_Emprestimo                     80091 non-null  float64 \n",
      " 5   VL_Emprestimo_ComJuros            80091 non-null  float64 \n",
      " 6   QT_Total_Parcelas_Pagas           80091 non-null  int64   \n",
      " 7   QT_Total_Parcelas_Pagas_EmDia     80091 non-null  int64   \n",
      " 8   QT_Total_Parcelas_Pagas_EmAtraso  80091 non-null  int64   \n",
      " 9   Qt_Renegociacao                   80091 non-null  int64   \n",
      " 10  Estado_Civil                      80091 non-null  object  \n",
      " 11  QT_Parcelas_Atraso                80091 non-null  int64   \n",
      " 12  Saldo_Devedor                     80091 non-null  float64 \n",
      " 13  Total_Pago                        80091 non-null  float64 \n",
      " 14  Faixa_Prazo_Restante              80091 non-null  category\n",
      " 15  Faixa_Salarial                    80091 non-null  category\n",
      " 16  Faixa_Prazo_Emprestimo            80091 non-null  category\n",
      " 17  Faixa_Dias_Atraso                 80091 non-null  category\n",
      " 18  Possivel_Fraude                   80091 non-null  object  \n",
      "dtypes: category(5), float64(5), int64(5), object(4)\n",
      "memory usage: 9.5+ MB\n"
     ]
    }
   ],
   "source": [
    "df_mod.info()"
   ]
  },
  {
   "cell_type": "code",
   "execution_count": 160,
   "metadata": {},
   "outputs": [
    {
     "data": {
      "text/plain": [
       "Sexo                                0\n",
       "UF_Cliente                          0\n",
       "Faixa_Etaria                        0\n",
       "Perc_Juros                          0\n",
       "VL_Emprestimo                       0\n",
       "VL_Emprestimo_ComJuros              0\n",
       "QT_Total_Parcelas_Pagas             0\n",
       "QT_Total_Parcelas_Pagas_EmDia       0\n",
       "QT_Total_Parcelas_Pagas_EmAtraso    0\n",
       "Qt_Renegociacao                     0\n",
       "Estado_Civil                        0\n",
       "QT_Parcelas_Atraso                  0\n",
       "Saldo_Devedor                       0\n",
       "Total_Pago                          0\n",
       "Faixa_Prazo_Restante                0\n",
       "Faixa_Salarial                      0\n",
       "Faixa_Prazo_Emprestimo              0\n",
       "Faixa_Dias_Atraso                   0\n",
       "Possivel_Fraude                     0\n",
       "dtype: int64"
      ]
     },
     "execution_count": 160,
     "metadata": {},
     "output_type": "execute_result"
    }
   ],
   "source": [
    "df_mod.isnull().sum()"
   ]
  }
 ],
 "metadata": {
  "kernelspec": {
   "display_name": "base",
   "language": "python",
   "name": "python3"
  },
  "language_info": {
   "codemirror_mode": {
    "name": "ipython",
    "version": 3
   },
   "file_extension": ".py",
   "mimetype": "text/x-python",
   "name": "python",
   "nbconvert_exporter": "python",
   "pygments_lexer": "ipython3",
   "version": "3.11.5"
  }
 },
 "nbformat": 4,
 "nbformat_minor": 2
}
